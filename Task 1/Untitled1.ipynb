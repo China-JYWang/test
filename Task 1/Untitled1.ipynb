{
 "cells": [
  {
   "cell_type": "code",
   "execution_count": 1,
   "metadata": {
    "collapsed": true
   },
   "outputs": [],
   "source": [
    "#1\n",
    "import numpy as np"
   ]
  },
  {
   "cell_type": "code",
   "execution_count": 5,
   "metadata": {
    "collapsed": false
   },
   "outputs": [
    {
     "name": "stdout",
     "output_type": "stream",
     "text": [
      "<module 'numpy.version' from 'C:\\\\Users\\\\Administrator\\\\Anaconda3\\\\lib\\\\site-packages\\\\numpy\\\\version.py'>\n",
      "1.16.2\n",
      "openblas_lapack_info:\n",
      "    language = f77\n",
      "    library_dirs = ['C:\\\\projects\\\\numpy-wheels\\\\numpy\\\\build\\\\openblas']\n",
      "    libraries = ['openblas']\n",
      "    define_macros = [('HAVE_CBLAS', None)]\n",
      "openblas_info:\n",
      "    language = f77\n",
      "    library_dirs = ['C:\\\\projects\\\\numpy-wheels\\\\numpy\\\\build\\\\openblas']\n",
      "    libraries = ['openblas']\n",
      "    define_macros = [('HAVE_CBLAS', None)]\n",
      "lapack_opt_info:\n",
      "    language = f77\n",
      "    library_dirs = ['C:\\\\projects\\\\numpy-wheels\\\\numpy\\\\build\\\\openblas']\n",
      "    libraries = ['openblas']\n",
      "    define_macros = [('HAVE_CBLAS', None)]\n",
      "lapack_mkl_info:\n",
      "  NOT AVAILABLE\n",
      "blis_info:\n",
      "  NOT AVAILABLE\n",
      "blas_opt_info:\n",
      "    language = f77\n",
      "    library_dirs = ['C:\\\\projects\\\\numpy-wheels\\\\numpy\\\\build\\\\openblas']\n",
      "    libraries = ['openblas']\n",
      "    define_macros = [('HAVE_CBLAS', None)]\n",
      "blas_mkl_info:\n",
      "  NOT AVAILABLE\n"
     ]
    }
   ],
   "source": [
    "# 2\n",
    "print(np.version) # 打印的是路径\n",
    "print(np.__version__) # 打印的才是版本\n",
    "np.show_config() # 配置说明"
   ]
  },
  {
   "cell_type": "code",
   "execution_count": 4,
   "metadata": {
    "collapsed": false
   },
   "outputs": [
    {
     "data": {
      "text/plain": [
       "array([0., 0., 0., 0., 0., 0., 0., 0., 0., 0.])"
      ]
     },
     "execution_count": 4,
     "metadata": {},
     "output_type": "execute_result"
    }
   ],
   "source": [
    "# 3\n",
    "np.zeros(10)"
   ]
  },
  {
   "cell_type": "code",
   "execution_count": 5,
   "metadata": {
    "collapsed": false
   },
   "outputs": [
    {
     "name": "stdout",
     "output_type": "stream",
     "text": [
      "[0. 0. 0. 0. 0. 0. 0. 0. 0. 0.]\n",
      "10\n",
      "8\n",
      "80\n"
     ]
    }
   ],
   "source": [
    "# 4\n",
    "z = np.zeros(10)\n",
    "print(z)\n",
    "print(z.size) # size 大小\n",
    "print(z.itemsize) #输出元素的字节数\n",
    "print(z.size*z.itemsize)"
   ]
  },
  {
   "cell_type": "code",
   "execution_count": 7,
   "metadata": {
    "collapsed": false
   },
   "outputs": [
    {
     "name": "stdout",
     "output_type": "stream",
     "text": [
      "add(x1, x2, /, out=None, *, where=True, casting='same_kind', order='K', dtype=None, subok=True[, signature, extobj])\n",
      "\n",
      "Add arguments element-wise.\n",
      "\n",
      "Parameters\n",
      "----------\n",
      "x1, x2 : array_like\n",
      "    The arrays to be added.  If ``x1.shape != x2.shape``, they must be\n",
      "    broadcastable to a common shape (which may be the shape of one or\n",
      "    the other).\n",
      "out : ndarray, None, or tuple of ndarray and None, optional\n",
      "    A location into which the result is stored. If provided, it must have\n",
      "    a shape that the inputs broadcast to. If not provided or `None`,\n",
      "    a freshly-allocated array is returned. A tuple (possible only as a\n",
      "    keyword argument) must have length equal to the number of outputs.\n",
      "where : array_like, optional\n",
      "    Values of True indicate to calculate the ufunc at that position, values\n",
      "    of False indicate to leave the value in the output alone.\n",
      "**kwargs\n",
      "    For other keyword-only arguments, see the\n",
      "    :ref:`ufunc docs <ufuncs.kwargs>`.\n",
      "\n",
      "Returns\n",
      "-------\n",
      "add : ndarray or scalar\n",
      "    The sum of `x1` and `x2`, element-wise.\n",
      "    This is a scalar if both `x1` and `x2` are scalars.\n",
      "\n",
      "Notes\n",
      "-----\n",
      "Equivalent to `x1` + `x2` in terms of array broadcasting.\n",
      "\n",
      "Examples\n",
      "--------\n",
      ">>> np.add(1.0, 4.0)\n",
      "5.0\n",
      ">>> x1 = np.arange(9.0).reshape((3, 3))\n",
      ">>> x2 = np.arange(3.0)\n",
      ">>> np.add(x1, x2)\n",
      "array([[  0.,   2.,   4.],\n",
      "       [  3.,   5.,   7.],\n",
      "       [  6.,   8.,  10.]])\n",
      "add(x1, x2, /, out=None, *, where=True, casting='same_kind', order='K', dtype=None, subok=True[, signature, extobj])\n",
      "\n",
      "Add arguments element-wise.\n",
      "\n",
      "Parameters\n",
      "----------\n",
      "x1, x2 : array_like\n",
      "    The arrays to be added.  If ``x1.shape != x2.shape``, they must be\n",
      "    broadcastable to a common shape (which may be the shape of one or\n",
      "    the other).\n",
      "out : ndarray, None, or tuple of ndarray and None, optional\n",
      "    A location into which the result is stored. If provided, it must have\n",
      "    a shape that the inputs broadcast to. If not provided or `None`,\n",
      "    a freshly-allocated array is returned. A tuple (possible only as a\n",
      "    keyword argument) must have length equal to the number of outputs.\n",
      "where : array_like, optional\n",
      "    Values of True indicate to calculate the ufunc at that position, values\n",
      "    of False indicate to leave the value in the output alone.\n",
      "**kwargs\n",
      "    For other keyword-only arguments, see the\n",
      "    :ref:`ufunc docs <ufuncs.kwargs>`.\n",
      "\n",
      "Returns\n",
      "-------\n",
      "add : ndarray or scalar\n",
      "    The sum of `x1` and `x2`, element-wise.\n",
      "    This is a scalar if both `x1` and `x2` are scalars.\n",
      "\n",
      "Notes\n",
      "-----\n",
      "Equivalent to `x1` + `x2` in terms of array broadcasting.\n",
      "\n",
      "Examples\n",
      "--------\n",
      ">>> np.add(1.0, 4.0)\n",
      "5.0\n",
      ">>> x1 = np.arange(9.0).reshape((3, 3))\n",
      ">>> x2 = np.arange(3.0)\n",
      ">>> np.add(x1, x2)\n",
      "array([[  0.,   2.,   4.],\n",
      "       [  3.,   5.,   7.],\n",
      "       [  6.,   8.,  10.]])\n"
     ]
    }
   ],
   "source": [
    "# 5\n",
    "import numpy\n",
    "np.info(np.add) \n",
    "numpy.info(numpy.add) # 非常重要，对于查看函数的属性"
   ]
  },
  {
   "cell_type": "code",
   "execution_count": 8,
   "metadata": {
    "collapsed": false
   },
   "outputs": [
    {
     "name": "stdout",
     "output_type": "stream",
     "text": [
      "[0. 0. 0. 0. 0. 0. 0. 0. 0. 0.]\n",
      "[0. 0. 0. 0. 1. 0. 0. 0. 0. 0.]\n"
     ]
    }
   ],
   "source": [
    "# 6\n",
    "z = np.zeros(10)\n",
    "print(z)\n",
    "z[4]=1\n",
    "print(z)"
   ]
  },
  {
   "cell_type": "code",
   "execution_count": 8,
   "metadata": {
    "collapsed": false
   },
   "outputs": [
    {
     "data": {
      "text/plain": [
       "array([10, 12, 14, 16, 18, 20, 22, 24, 26, 28, 30, 32, 34, 36, 38, 40, 42,\n",
       "       44, 46, 48])"
      ]
     },
     "execution_count": 8,
     "metadata": {},
     "output_type": "execute_result"
    }
   ],
   "source": [
    "# 7\n",
    "z = np.arange(10,50,2)\n",
    "z"
   ]
  },
  {
   "cell_type": "code",
   "execution_count": 21,
   "metadata": {
    "collapsed": false
   },
   "outputs": [
    {
     "name": "stdout",
     "output_type": "stream",
     "text": [
      "[49 48 47 46 45 44 43 42 41 40 39 38 37 36 35 34 33 32 31 30 29 28 27 26\n",
      " 25 24 23 22 21 20 19 18 17 16 15 14 13 12 11 10]\n"
     ]
    }
   ],
   "source": [
    "# 8\n",
    "z=z[::-1]\n",
    "print(z)\n"
   ]
  },
  {
   "cell_type": "code",
   "execution_count": 24,
   "metadata": {
    "collapsed": false
   },
   "outputs": [
    {
     "data": {
      "text/plain": [
       "array([[0, 1, 2],\n",
       "       [3, 4, 5],\n",
       "       [6, 7, 8]])"
      ]
     },
     "execution_count": 24,
     "metadata": {},
     "output_type": "execute_result"
    }
   ],
   "source": [
    "# 9\n",
    "z = np.arange(9).reshape(3,3)\n",
    "z"
   ]
  },
  {
   "cell_type": "code",
   "execution_count": 26,
   "metadata": {
    "collapsed": false
   },
   "outputs": [
    {
     "data": {
      "text/plain": [
       "(array([0, 1, 4], dtype=int64),)"
      ]
     },
     "execution_count": 26,
     "metadata": {},
     "output_type": "execute_result"
    }
   ],
   "source": [
    "# 10\n",
    "z = np.array([1,2,0,0,4,0])\n",
    "index1 = np.nonzero(z)\n",
    "index1\n"
   ]
  },
  {
   "cell_type": "code",
   "execution_count": 29,
   "metadata": {
    "collapsed": false
   },
   "outputs": [
    {
     "data": {
      "text/plain": [
       "array([[1., 0., 0.],\n",
       "       [0., 1., 0.],\n",
       "       [0., 0., 1.]])"
      ]
     },
     "execution_count": 29,
     "metadata": {},
     "output_type": "execute_result"
    }
   ],
   "source": [
    "# 11\n",
    "z = np.eye(3)\n",
    "z"
   ]
  },
  {
   "cell_type": "code",
   "execution_count": 30,
   "metadata": {
    "collapsed": false
   },
   "outputs": [
    {
     "name": "stdout",
     "output_type": "stream",
     "text": [
      "[[[-1.04887965 -0.10160876 -0.97878244]\n",
      "  [-1.74185888  0.36320114  0.838537  ]\n",
      "  [ 0.1239353   1.17138618  0.08983334]]\n",
      "\n",
      " [[ 0.11327724  0.61910773  0.61269968]\n",
      "  [-1.0715255   1.24327034  0.09960049]\n",
      "  [ 0.18006868 -0.4618413   1.24143797]]\n",
      "\n",
      " [[ 1.21100649  0.24524586 -0.25551848]\n",
      "  [ 0.24529508 -0.69290976 -0.11146581]\n",
      "  [-0.73998167  0.6540039   0.65306116]]]\n",
      "[[[0.57154855 0.00156137 0.62480061]\n",
      "  [0.39570423 0.50608836 0.24875173]\n",
      "  [0.28233993 0.80612213 0.07300757]]\n",
      "\n",
      " [[0.65621572 0.71212161 0.76930708]\n",
      "  [0.49653133 0.18509598 0.40325239]\n",
      "  [0.69297921 0.53606215 0.94233845]]\n",
      "\n",
      " [[0.19402167 0.09846662 0.20396635]\n",
      "  [0.76421198 0.23351886 0.35346248]\n",
      "  [0.86681232 0.1828243  0.02342453]]]\n"
     ]
    }
   ],
   "source": [
    "z = np.random.randn(27).reshape(3,3,3)\n",
    "print(z)\n",
    "z = np.random.random((3,3,3))\n",
    "print(z)"
   ]
  },
  {
   "cell_type": "code",
   "execution_count": 34,
   "metadata": {
    "collapsed": false
   },
   "outputs": [
    {
     "name": "stdout",
     "output_type": "stream",
     "text": [
      "[[9.04553463e-01 9.04023100e-01 6.98185982e-01 8.29335247e-01\n",
      "  7.60089341e-01 2.41505345e-01 7.29479196e-01 9.90873608e-01\n",
      "  5.46266293e-01 4.48764250e-01]\n",
      " [4.36646323e-01 1.71082690e-01 7.55815663e-01 9.30540523e-01\n",
      "  6.28146384e-01 1.60048745e-01 6.23434313e-01 1.69338737e-01\n",
      "  8.13569543e-02 7.33784111e-01]\n",
      " [1.33235840e-01 1.11169451e-01 1.80813133e-01 3.24723604e-01\n",
      "  8.14094999e-01 2.00109783e-01 4.21499998e-02 1.32469815e-02\n",
      "  9.75319691e-01 9.99526346e-01]\n",
      " [9.94494439e-01 2.57334284e-01 1.61074096e-01 3.89874182e-01\n",
      "  6.45041459e-01 2.91049093e-01 8.42717564e-01 6.67453095e-01\n",
      "  4.56160437e-01 5.68735332e-01]\n",
      " [3.10954692e-01 5.09613912e-02 7.38865940e-01 1.19989177e-02\n",
      "  8.11665255e-01 1.59024557e-01 3.56226107e-01 2.95238095e-01\n",
      "  1.10354204e-02 9.07780457e-01]\n",
      " [3.48789509e-01 3.16866139e-01 3.25137548e-01 9.02714552e-01\n",
      "  2.82843131e-01 5.81182105e-01 1.21130159e-01 4.74606805e-01\n",
      "  8.77560012e-01 3.16149029e-02]\n",
      " [7.66638803e-01 4.40945573e-01 7.96369806e-01 1.69428588e-01\n",
      "  3.45884316e-01 2.62912053e-02 8.80456429e-01 9.25104764e-01\n",
      "  7.70600852e-01 7.65666908e-01]\n",
      " [3.46820663e-01 6.05338295e-01 3.31231679e-01 5.13452485e-02\n",
      "  8.22060284e-01 5.74409628e-01 8.98716012e-01 9.16757429e-01\n",
      "  6.46060946e-01 8.70413800e-02]\n",
      " [7.43254626e-01 8.95475561e-01 6.51161090e-01 6.60155142e-01\n",
      "  9.35380187e-01 8.30288244e-02 7.25547640e-01 2.94564966e-04\n",
      "  3.90238317e-01 4.65681198e-01]\n",
      " [5.87626579e-01 6.52156555e-01 7.30758347e-01 6.42108881e-01\n",
      "  3.29769168e-01 8.21695241e-01 9.84454761e-01 6.93305660e-01\n",
      "  1.32296484e-01 3.61204403e-02]]\n",
      "0.9995263459740584\n",
      "0.0002945649658666616\n"
     ]
    }
   ],
   "source": [
    "z = np.random.random((10,10))\n",
    "print(z)\n",
    "print(z.max())\n",
    "print(z.min())"
   ]
  },
  {
   "cell_type": "code",
   "execution_count": 36,
   "metadata": {
    "collapsed": false
   },
   "outputs": [
    {
     "data": {
      "text/plain": [
       "0.5625708239856639"
      ]
     },
     "execution_count": 36,
     "metadata": {},
     "output_type": "execute_result"
    }
   ],
   "source": [
    "z = np.random.random(30)\n",
    "np.mean(z)"
   ]
  },
  {
   "cell_type": "code",
   "execution_count": 39,
   "metadata": {
    "collapsed": false
   },
   "outputs": [
    {
     "name": "stdout",
     "output_type": "stream",
     "text": [
      "[[1. 1. 1. 1.]\n",
      " [1. 0. 0. 1.]\n",
      " [1. 0. 0. 1.]\n",
      " [1. 1. 1. 1.]]\n"
     ]
    }
   ],
   "source": [
    "z = np.ones((4,4))\n",
    "z[1:-1,1:-1]=0\n",
    "print(z)"
   ]
  },
  {
   "cell_type": "code",
   "execution_count": 41,
   "metadata": {
    "collapsed": false
   },
   "outputs": [
    {
     "data": {
      "text/plain": [
       "array([[0., 0., 0., 0., 0., 0.],\n",
       "       [0., 1., 1., 1., 1., 0.],\n",
       "       [0., 1., 1., 1., 1., 0.],\n",
       "       [0., 1., 1., 1., 1., 0.],\n",
       "       [0., 1., 1., 1., 1., 0.],\n",
       "       [0., 0., 0., 0., 0., 0.]])"
      ]
     },
     "execution_count": 41,
     "metadata": {},
     "output_type": "execute_result"
    }
   ],
   "source": [
    "z = np.ones((4,4))\n",
    "z = np.pad(z,pad_width=1,mode='constant',constant_values=0)\n",
    "z"
   ]
  },
  {
   "cell_type": "code",
   "execution_count": 43,
   "metadata": {
    "collapsed": false
   },
   "outputs": [
    {
     "name": "stdout",
     "output_type": "stream",
     "text": [
      "nan\n",
      "False\n",
      "False\n",
      "nan\n",
      "False\n"
     ]
    }
   ],
   "source": [
    "print(0*np.nan)\n",
    "print(np.nan == np.nan)\n",
    "print(np.inf > np.nan)\n",
    "print(np.nan-np.nan)\n",
    "print(0.3 == 3*0.1)"
   ]
  },
  {
   "cell_type": "code",
   "execution_count": 51,
   "metadata": {
    "collapsed": false
   },
   "outputs": [
    {
     "data": {
      "text/plain": [
       "array([[0, 0, 0, 0, 0],\n",
       "       [1, 0, 0, 0, 0],\n",
       "       [0, 2, 0, 0, 0],\n",
       "       [0, 0, 3, 0, 0],\n",
       "       [0, 0, 0, 4, 0]])"
      ]
     },
     "execution_count": 51,
     "metadata": {},
     "output_type": "execute_result"
    }
   ],
   "source": [
    "z = np.diag(1+np.arange(4),k=-1)\n",
    "z"
   ]
  },
  {
   "cell_type": "code",
   "execution_count": 59,
   "metadata": {
    "collapsed": false
   },
   "outputs": [
    {
     "data": {
      "text/plain": [
       "array([[0, 1, 0, 1, 0, 1, 0, 1],\n",
       "       [1, 0, 1, 0, 1, 0, 1, 0],\n",
       "       [0, 1, 0, 1, 0, 1, 0, 1],\n",
       "       [1, 0, 1, 0, 1, 0, 1, 0],\n",
       "       [0, 1, 0, 1, 0, 1, 0, 1],\n",
       "       [1, 0, 1, 0, 1, 0, 1, 0],\n",
       "       [0, 1, 0, 1, 0, 1, 0, 1],\n",
       "       [1, 0, 1, 0, 1, 0, 1, 0]])"
      ]
     },
     "execution_count": 59,
     "metadata": {},
     "output_type": "execute_result"
    }
   ],
   "source": [
    "z = np.zeros((8,8),dtype=int)\n",
    "z[1::2,0::2]=1\n",
    "z[0::2,1::2]=1\n",
    "z"
   ]
  },
  {
   "cell_type": "code",
   "execution_count": 62,
   "metadata": {
    "collapsed": false
   },
   "outputs": [
    {
     "name": "stdout",
     "output_type": "stream",
     "text": [
      "(1, 5, 4)\n"
     ]
    }
   ],
   "source": [
    "print(np.unravel_index(100,(6,7,8)))"
   ]
  },
  {
   "cell_type": "code",
   "execution_count": 64,
   "metadata": {
    "collapsed": false
   },
   "outputs": [
    {
     "data": {
      "text/plain": [
       "array([[0, 1, 0, 1, 0, 1, 0, 1],\n",
       "       [1, 0, 1, 0, 1, 0, 1, 0],\n",
       "       [0, 1, 0, 1, 0, 1, 0, 1],\n",
       "       [1, 0, 1, 0, 1, 0, 1, 0],\n",
       "       [0, 1, 0, 1, 0, 1, 0, 1],\n",
       "       [1, 0, 1, 0, 1, 0, 1, 0],\n",
       "       [0, 1, 0, 1, 0, 1, 0, 1],\n",
       "       [1, 0, 1, 0, 1, 0, 1, 0]])"
      ]
     },
     "execution_count": 64,
     "metadata": {},
     "output_type": "execute_result"
    }
   ],
   "source": [
    "z = np.tile(np.array([[0,1],[1,0]]),(4,4))\n",
    "z"
   ]
  },
  {
   "cell_type": "code",
   "execution_count": 66,
   "metadata": {
    "collapsed": false
   },
   "outputs": [
    {
     "name": "stdout",
     "output_type": "stream",
     "text": [
      "[[0.31751241 0.57179998 0.10857945 0.98555763 0.25448672]\n",
      " [0.67124638 0.710721   0.51421257 0.39230074 0.36524312]\n",
      " [0.26057387 0.15018732 0.92117691 0.74936188 0.41251483]\n",
      " [0.71831678 0.66305306 0.99381862 0.54693157 0.15995088]\n",
      " [0.9355818  0.16658867 0.14807735 0.60418575 0.14496111]]\n",
      "[[0.23601865 0.52327162 0.         0.99066806 0.16482242]\n",
      " [0.63561006 0.68020211 0.45821868 0.32050241 0.28993709]\n",
      " [0.17169871 0.04700183 0.91794115 0.72385232 0.34333702]\n",
      " [0.68878259 0.62635457 1.         0.4951793  0.05803113]\n",
      " [0.93421346 0.06552943 0.04461833 0.55985581 0.04109811]]\n"
     ]
    }
   ],
   "source": [
    "z = np.random.random((5,5))\n",
    "print(z)\n",
    "print((z-z.min())/(z.max()-z.min()))"
   ]
  },
  {
   "cell_type": "code",
   "execution_count": 67,
   "metadata": {
    "collapsed": false
   },
   "outputs": [
    {
     "data": {
      "text/plain": [
       "dtype([('r', 'u1'), ('g', 'u1'), ('b', 'u1'), ('a', 'u1')])"
      ]
     },
     "execution_count": 67,
     "metadata": {},
     "output_type": "execute_result"
    }
   ],
   "source": [
    "color = np.dtype([(\"r\", np.ubyte, 1),\n",
    "                  (\"g\", np.ubyte, 1),\n",
    "                  (\"b\", np.ubyte, 1),\n",
    "                  (\"a\", np.ubyte, 1)])\n",
    "color"
   ]
  },
  {
   "cell_type": "code",
   "execution_count": 68,
   "metadata": {
    "collapsed": false
   },
   "outputs": [
    {
     "data": {
      "text/plain": [
       "array([[3., 3.],\n",
       "       [3., 3.],\n",
       "       [3., 3.],\n",
       "       [3., 3.],\n",
       "       [3., 3.]])"
      ]
     },
     "execution_count": 68,
     "metadata": {},
     "output_type": "execute_result"
    }
   ],
   "source": [
    "z = np.dot(np.ones((5,3)),np.ones((3,2)))\n",
    "z"
   ]
  },
  {
   "cell_type": "code",
   "execution_count": 71,
   "metadata": {
    "collapsed": false,
    "scrolled": true
   },
   "outputs": [
    {
     "data": {
      "text/plain": [
       "array([ 0,  1,  2, -3, -4, -5, -6, -7, -8,  9])"
      ]
     },
     "execution_count": 71,
     "metadata": {},
     "output_type": "execute_result"
    }
   ],
   "source": [
    "z = np.arange(10)\n",
    "z[(3<=z)&(z<=8)] *= -1\n",
    "z"
   ]
  },
  {
   "cell_type": "code",
   "execution_count": 73,
   "metadata": {
    "collapsed": false
   },
   "outputs": [
    {
     "name": "stdout",
     "output_type": "stream",
     "text": [
      "10\n",
      "10\n"
     ]
    }
   ],
   "source": [
    "# https://stoneboy100200.github.io/2018/08/09/numpy-sum/\n",
    "print(sum(range(5),-1))\n",
    "\n",
    "from numpy import *\n",
    "print(sum(range(5),-1))"
   ]
  },
  {
   "cell_type": "code",
   "execution_count": 82,
   "metadata": {
    "collapsed": false
   },
   "outputs": [
    {
     "ename": "ValueError",
     "evalue": "The truth value of an array with more than one element is ambiguous. Use a.any() or a.all()",
     "output_type": "error",
     "traceback": [
      "\u001b[0;31m---------------------------------------------------------------------------\u001b[0m",
      "\u001b[0;31mValueError\u001b[0m                                Traceback (most recent call last)",
      "\u001b[0;32m<ipython-input-82-757ddca8549c>\u001b[0m in \u001b[0;36m<module>\u001b[0;34m()\u001b[0m\n\u001b[1;32m      7\u001b[0m \u001b[1;31m# print(z/1/1)\u001b[0m\u001b[1;33m\u001b[0m\u001b[1;33m\u001b[0m\u001b[0m\n\u001b[1;32m      8\u001b[0m \u001b[1;31m# z = np.arange(5)\u001b[0m\u001b[1;33m\u001b[0m\u001b[1;33m\u001b[0m\u001b[0m\n\u001b[0;32m----> 9\u001b[0;31m \u001b[0mz\u001b[0m \u001b[1;33m<\u001b[0m \u001b[0mz\u001b[0m \u001b[1;33m>\u001b[0m \u001b[0mz\u001b[0m\u001b[1;33m\u001b[0m\u001b[0m\n\u001b[0m",
      "\u001b[0;31mValueError\u001b[0m: The truth value of an array with more than one element is ambiguous. Use a.any() or a.all()"
     ]
    }
   ],
   "source": [
    "z = np.arange(5)\n",
    "# print(z)\n",
    "# print(z**z)\n",
    "# print(2<<z<<2)\n",
    "# print(z<-z)\n",
    "# print(1j*z)\n",
    "# print(z/1/1)\n",
    "# z = np.arange(5)\n",
    "z < z > z"
   ]
  },
  {
   "cell_type": "code",
   "execution_count": 83,
   "metadata": {
    "collapsed": false
   },
   "outputs": [
    {
     "name": "stdout",
     "output_type": "stream",
     "text": [
      "nan\n",
      "0\n",
      "[-2.14748365e+09]\n"
     ]
    },
    {
     "name": "stderr",
     "output_type": "stream",
     "text": [
      "C:\\Users\\Administrator\\Anaconda3\\lib\\site-packages\\ipykernel\\__main__.py:1: RuntimeWarning: invalid value encountered in true_divide\n",
      "  if __name__ == '__main__':\n",
      "C:\\Users\\Administrator\\Anaconda3\\lib\\site-packages\\ipykernel\\__main__.py:2: RuntimeWarning: divide by zero encountered in floor_divide\n",
      "  from ipykernel import kernelapp as app\n"
     ]
    }
   ],
   "source": [
    "print(np.array(0) / np.array(0))\n",
    "print(np.array(0) // np.array(0))\n",
    "print(np.array([np.nan]).astype(int).astype(float))"
   ]
  },
  {
   "cell_type": "code",
   "execution_count": 85,
   "metadata": {
    "collapsed": false
   },
   "outputs": [
    {
     "name": "stdout",
     "output_type": "stream",
     "text": [
      "[ 8.45732668 -4.49091695  3.27061097 -6.03750575  6.37159718  5.34706073\n",
      " -0.83774431  9.51796336  1.9510514   8.45224445]\n",
      "[ 9. -5.  4. -7.  7.  6. -1. 10.  2.  9.]\n"
     ]
    }
   ],
   "source": [
    "z = np.random.uniform(-10,+10,10)\n",
    "print(z)\n",
    "print(np.copysign(np.ceil(np.abs(z)),z))"
   ]
  },
  {
   "cell_type": "code",
   "execution_count": 87,
   "metadata": {
    "collapsed": false
   },
   "outputs": [
    {
     "name": "stdout",
     "output_type": "stream",
     "text": [
      "[1 1 6 2 7 6 0 4 4 3]\n",
      "[2 7 1 3 7 5 5 6 1 4]\n",
      "[1 2 3 4 6 7]\n"
     ]
    }
   ],
   "source": [
    "z1 = np.random.randint(0,10,10)\n",
    "print(z1)\n",
    "z2 = np.random.randint(0,10,10)\n",
    "print(z2)\n",
    "print(np.intersect1d(z1,z2))"
   ]
  },
  {
   "cell_type": "code",
   "execution_count": 93,
   "metadata": {
    "collapsed": false
   },
   "outputs": [],
   "source": [
    "# Suicide mode on\n",
    "defaults = np.seterr(all=\"ignore\")\n",
    "Z = np.ones(1) / 0\n",
    "\n",
    "# # Back to sanity\n",
    "_ = np.seterr(**defaults)\n",
    "\n",
    "# # An equivalent way, with a context manager:\n",
    "\n",
    "with np.errstate(divide='ignore'):\n",
    "    Z = np.ones(1) / 0"
   ]
  },
  {
   "cell_type": "code",
   "execution_count": 4,
   "metadata": {
    "collapsed": false
   },
   "outputs": [
    {
     "name": "stderr",
     "output_type": "stream",
     "text": [
      "C:\\Users\\Administrator\\Anaconda3\\lib\\site-packages\\ipykernel\\__main__.py:2: RuntimeWarning: invalid value encountered in sqrt\n",
      "  from ipykernel import kernelapp as app\n"
     ]
    },
    {
     "data": {
      "text/plain": [
       "False"
      ]
     },
     "execution_count": 4,
     "metadata": {},
     "output_type": "execute_result"
    }
   ],
   "source": [
    "import numpy as np\n",
    "np.sqrt(-1) == np.emath.sqrt(-1)"
   ]
  },
  {
   "cell_type": "code",
   "execution_count": 95,
   "metadata": {
    "collapsed": false
   },
   "outputs": [
    {
     "name": "stdout",
     "output_type": "stream",
     "text": [
      "Yesterday is 2019-06-20\n",
      "Today is 2019-06-21\n",
      "Tomorrow is 2019-06-22\n"
     ]
    }
   ],
   "source": [
    "yesterday = np.datetime64('today', 'D') - np.timedelta64(1, 'D')\n",
    "today     = np.datetime64('today', 'D')\n",
    "tomorrow  = np.datetime64('today', 'D') + np.timedelta64(1, 'D')\n",
    "print (\"Yesterday is \" + str(yesterday))\n",
    "print (\"Today is \" + str(today))\n",
    "print (\"Tomorrow is \"+ str(tomorrow))"
   ]
  },
  {
   "cell_type": "code",
   "execution_count": 5,
   "metadata": {
    "collapsed": false
   },
   "outputs": [
    {
     "name": "stdout",
     "output_type": "stream",
     "text": [
      "['2016-07-01' '2016-07-02' '2016-07-03' '2016-07-04' '2016-07-05'\n",
      " '2016-07-06' '2016-07-07' '2016-07-08' '2016-07-09' '2016-07-10'\n",
      " '2016-07-11' '2016-07-12' '2016-07-13' '2016-07-14' '2016-07-15'\n",
      " '2016-07-16' '2016-07-17' '2016-07-18' '2016-07-19' '2016-07-20'\n",
      " '2016-07-21' '2016-07-22' '2016-07-23' '2016-07-24' '2016-07-25'\n",
      " '2016-07-26' '2016-07-27' '2016-07-28' '2016-07-29' '2016-07-30'\n",
      " '2016-07-31']\n"
     ]
    }
   ],
   "source": [
    "z = np.arange('2016-07','2016-08',dtype='datetime64[D]')\n",
    "print(z)"
   ]
  },
  {
   "cell_type": "code",
   "execution_count": 6,
   "metadata": {
    "collapsed": false
   },
   "outputs": [
    {
     "data": {
      "text/plain": [
       "array([3., 3., 3.])"
      ]
     },
     "execution_count": 6,
     "metadata": {},
     "output_type": "execute_result"
    }
   ],
   "source": [
    "A = np.ones(3)*1\n",
    "B = np.ones(3)*2\n",
    "C = np.ones(3)*3\n",
    "np.add(A,B,out=B)\n"
   ]
  },
  {
   "cell_type": "code",
   "execution_count": 7,
   "metadata": {
    "collapsed": false
   },
   "outputs": [
    {
     "name": "stdout",
     "output_type": "stream",
     "text": [
      "[0.5 0.5 0.5]\n",
      "[-0.5 -0.5 -0.5]\n",
      "[-1.5 -1.5 -1.5]\n"
     ]
    }
   ],
   "source": [
    "print(np.divide(A,2,out=A))\n",
    "print(np.negative(A,out=A))\n",
    "print(np.multiply(A,B,out=A))"
   ]
  },
  {
   "cell_type": "code",
   "execution_count": 10,
   "metadata": {
    "collapsed": false
   },
   "outputs": [
    {
     "name": "stdout",
     "output_type": "stream",
     "text": [
      "[0.80418925 6.67151758 7.65129846 8.6716679  2.0148134  3.5148256\n",
      " 8.85995966 3.47335856 2.76998536 2.05183101]\n",
      "[0. 6. 7. 8. 2. 3. 8. 3. 2. 2.]\n",
      "[0. 6. 7. 8. 2. 3. 8. 3. 2. 2.]\n",
      "[0. 6. 7. 8. 2. 3. 8. 3. 2. 2.]\n",
      "[0 6 7 8 2 3 8 3 2 2]\n",
      "[0. 6. 7. 8. 2. 3. 8. 3. 2. 2.]\n"
     ]
    }
   ],
   "source": [
    "z = np.random.uniform(0,10,10)\n",
    "print(z)\n",
    "print(z-z%1)\n",
    "print(np.floor(z))\n",
    "print(np.ceil(z)-1)\n",
    "print(z.astype(int))\n",
    "print(np.trunc(z))"
   ]
  },
  {
   "cell_type": "code",
   "execution_count": 11,
   "metadata": {
    "collapsed": false
   },
   "outputs": [
    {
     "name": "stdout",
     "output_type": "stream",
     "text": [
      "[[0. 0. 0. 0. 0.]\n",
      " [0. 0. 0. 0. 0.]\n",
      " [0. 0. 0. 0. 0.]\n",
      " [0. 0. 0. 0. 0.]\n",
      " [0. 0. 0. 0. 0.]]\n",
      "[[0. 1. 2. 3. 4.]\n",
      " [0. 1. 2. 3. 4.]\n",
      " [0. 1. 2. 3. 4.]\n",
      " [0. 1. 2. 3. 4.]\n",
      " [0. 1. 2. 3. 4.]]\n"
     ]
    }
   ],
   "source": [
    "z = np.zeros((5,5))\n",
    "print(z)\n",
    "z = z+np.arange(5)#广播操作\n",
    "print(z)"
   ]
  },
  {
   "cell_type": "code",
   "execution_count": 14,
   "metadata": {
    "collapsed": false
   },
   "outputs": [
    {
     "name": "stdout",
     "output_type": "stream",
     "text": [
      "<generator object generate at 0x0000000005305B48>\n",
      "[0. 1. 2. 3. 4. 5. 6. 7. 8. 9.]\n"
     ]
    }
   ],
   "source": [
    "def generate():\n",
    "    for x in range(10):\n",
    "        yield x\n",
    "print(generate())\n",
    "z = np.fromiter(generate(),dtype=float,count=-1)\n",
    "print(z)"
   ]
  },
  {
   "cell_type": "code",
   "execution_count": 19,
   "metadata": {
    "collapsed": false
   },
   "outputs": [
    {
     "data": {
      "text/plain": [
       "array([0.09090909, 0.18181818, 0.27272727, 0.36363636, 0.45454545,\n",
       "       0.54545455, 0.63636364, 0.72727273, 0.81818182, 0.90909091])"
      ]
     },
     "execution_count": 19,
     "metadata": {},
     "output_type": "execute_result"
    }
   ],
   "source": [
    "z = np.linspace(0,1,11,endpoint=False)[1:]\n",
    "z"
   ]
  },
  {
   "cell_type": "code",
   "execution_count": 28,
   "metadata": {
    "collapsed": false
   },
   "outputs": [
    {
     "name": "stdout",
     "output_type": "stream",
     "text": [
      "[0.05607397 0.06115009 0.22138655 0.22288826 0.2667332  0.27052405\n",
      " 0.49211713 0.60118188 0.64745072 0.98493616]\n"
     ]
    }
   ],
   "source": [
    "z = np.random.random(10)\n",
    "z.sort()\n",
    "print(z)\n"
   ]
  },
  {
   "cell_type": "code",
   "execution_count": 32,
   "metadata": {
    "collapsed": false
   },
   "outputs": [
    {
     "name": "stdout",
     "output_type": "stream",
     "text": [
      "0.00500035285949707\n",
      "0.01000070571899414\n"
     ]
    }
   ],
   "source": [
    "import time\n",
    "z = np.arange(5)\n",
    "tic = time.time()\n",
    "for i in range(1000):\n",
    "    np.add.reduce(z)\n",
    "toc = time.time()\n",
    "print(toc-tic)\n",
    "tic = time.time()\n",
    "for i in range(1000):\n",
    "    np.sum(z)\n",
    "toc = time.time()\n",
    "print(toc-tic)"
   ]
  },
  {
   "cell_type": "code",
   "execution_count": 37,
   "metadata": {
    "collapsed": false
   },
   "outputs": [
    {
     "name": "stdout",
     "output_type": "stream",
     "text": [
      "[1 1 0 0 1]\n",
      "[1 1 0 1 1]\n",
      "[ True  True  True False  True]\n",
      "False\n",
      "False\n"
     ]
    }
   ],
   "source": [
    "A = np.random.randint(0,2,5)\n",
    "print(A)\n",
    "B = np.random.randint(0,2,5)\n",
    "print(B)\n",
    "print(A == B)\n",
    "equal = np.allclose(A,B)\n",
    "print(equal)\n",
    "print(np.array_equal(A,B))"
   ]
  },
  {
   "cell_type": "code",
   "execution_count": 38,
   "metadata": {
    "collapsed": false
   },
   "outputs": [
    {
     "ename": "ValueError",
     "evalue": "assignment destination is read-only",
     "output_type": "error",
     "traceback": [
      "\u001b[0;31m---------------------------------------------------------------------------\u001b[0m",
      "\u001b[0;31mValueError\u001b[0m                                Traceback (most recent call last)",
      "\u001b[0;32m<ipython-input-38-6fd4c6570dd1>\u001b[0m in \u001b[0;36m<module>\u001b[0;34m()\u001b[0m\n\u001b[1;32m      1\u001b[0m \u001b[0mZ\u001b[0m \u001b[1;33m=\u001b[0m \u001b[0mnp\u001b[0m\u001b[1;33m.\u001b[0m\u001b[0mzeros\u001b[0m\u001b[1;33m(\u001b[0m\u001b[1;36m10\u001b[0m\u001b[1;33m)\u001b[0m\u001b[1;33m\u001b[0m\u001b[0m\n\u001b[1;32m      2\u001b[0m \u001b[0mZ\u001b[0m\u001b[1;33m.\u001b[0m\u001b[0mflags\u001b[0m\u001b[1;33m.\u001b[0m\u001b[0mwriteable\u001b[0m \u001b[1;33m=\u001b[0m \u001b[1;32mFalse\u001b[0m\u001b[1;33m\u001b[0m\u001b[0m\n\u001b[0;32m----> 3\u001b[0;31m \u001b[0mZ\u001b[0m\u001b[1;33m[\u001b[0m\u001b[1;36m0\u001b[0m\u001b[1;33m]\u001b[0m \u001b[1;33m=\u001b[0m \u001b[1;36m1\u001b[0m\u001b[1;33m\u001b[0m\u001b[0m\n\u001b[0m",
      "\u001b[0;31mValueError\u001b[0m: assignment destination is read-only"
     ]
    }
   ],
   "source": [
    "Z = np.zeros(10)\n",
    "Z.flags.writeable = False\n",
    "Z[0] = 1"
   ]
  },
  {
   "cell_type": "code",
   "execution_count": 39,
   "metadata": {
    "collapsed": false
   },
   "outputs": [
    {
     "name": "stdout",
     "output_type": "stream",
     "text": [
      "[1.10628331 0.27215189 0.7865168  0.94330785 1.17235319 0.76735356\n",
      " 0.57878029 0.98898692 1.35135876 0.75241876]\n",
      "[1.04867385 0.03099999 0.44597402 0.24830405 0.66878579 1.39999379\n",
      " 0.69677943 0.68612272 0.74806516 1.282205  ]\n"
     ]
    }
   ],
   "source": [
    "z = np.random.random((10,2))\n",
    "x,y = z[:,0],z[:,1]\n",
    "r = np.sqrt(x**2+y**2)\n",
    "t = np.arctan2(y,x)\n",
    "print(r)\n",
    "print(t)"
   ]
  },
  {
   "cell_type": "code",
   "execution_count": 40,
   "metadata": {
    "collapsed": false
   },
   "outputs": [
    {
     "name": "stdout",
     "output_type": "stream",
     "text": [
      "[0.98701656 0.42036392 0.35317587 0.43985601 0.21335826 0.20711901\n",
      " 0.77957028 0.89991939 0.60122713 0.21024018]\n",
      "[1.         0.42036392 0.35317587 0.43985601 0.21335826 0.20711901\n",
      " 0.77957028 0.89991939 0.60122713 0.21024018]\n"
     ]
    }
   ],
   "source": [
    "z = np.random.random(10)\n",
    "print(z)\n",
    "z[z.argmax()] =1\n",
    "print(z)"
   ]
  },
  {
   "cell_type": "code",
   "execution_count": 42,
   "metadata": {
    "collapsed": false,
    "scrolled": true
   },
   "outputs": [
    {
     "name": "stdout",
     "output_type": "stream",
     "text": [
      "[[(0., 0.) (0., 0.) (0., 0.) (0., 0.) (0., 0.)]\n",
      " [(0., 0.) (0., 0.) (0., 0.) (0., 0.) (0., 0.)]\n",
      " [(0., 0.) (0., 0.) (0., 0.) (0., 0.) (0., 0.)]\n",
      " [(0., 0.) (0., 0.) (0., 0.) (0., 0.) (0., 0.)]\n",
      " [(0., 0.) (0., 0.) (0., 0.) (0., 0.) (0., 0.)]]\n",
      "[[(0.  , 0.  ) (0.25, 0.  ) (0.5 , 0.  ) (0.75, 0.  ) (1.  , 0.  )]\n",
      " [(0.  , 0.25) (0.25, 0.25) (0.5 , 0.25) (0.75, 0.25) (1.  , 0.25)]\n",
      " [(0.  , 0.5 ) (0.25, 0.5 ) (0.5 , 0.5 ) (0.75, 0.5 ) (1.  , 0.5 )]\n",
      " [(0.  , 0.75) (0.25, 0.75) (0.5 , 0.75) (0.75, 0.75) (1.  , 0.75)]\n",
      " [(0.  , 1.  ) (0.25, 1.  ) (0.5 , 1.  ) (0.75, 1.  ) (1.  , 1.  )]]\n"
     ]
    }
   ],
   "source": [
    "z = np.zeros((5,5), [('x',float),('y',float)])\n",
    "print(z)\n",
    "z['x'],z['y']=np.meshgrid(np.linspace(0,1,5),np.linspace(0,1,5))\n",
    "print(z)"
   ]
  },
  {
   "cell_type": "code",
   "execution_count": 43,
   "metadata": {
    "collapsed": false
   },
   "outputs": [
    {
     "name": "stdout",
     "output_type": "stream",
     "text": [
      "3638.163637117973\n"
     ]
    }
   ],
   "source": [
    "x = np.arange(8)\n",
    "y = x+0.5\n",
    "c = 1/np.subtract.outer(x,y)\n",
    "print(np.linalg.det(c))"
   ]
  },
  {
   "cell_type": "code",
   "execution_count": 44,
   "metadata": {
    "collapsed": false
   },
   "outputs": [
    {
     "name": "stdout",
     "output_type": "stream",
     "text": [
      "-128\n",
      "127\n",
      "-2147483648\n",
      "2147483647\n",
      "-9223372036854775808\n",
      "9223372036854775807\n",
      "-3.4028235e+38\n",
      "3.4028235e+38\n",
      "1.1920929e-07\n",
      "-1.7976931348623157e+308\n",
      "1.7976931348623157e+308\n",
      "2.220446049250313e-16\n"
     ]
    }
   ],
   "source": [
    "for dtype in [np.int8, np.int32, np.int64]:\n",
    "    print(np.iinfo(dtype).min)\n",
    "    print(np.iinfo(dtype).max)\n",
    "\n",
    "for dtype in [np.float32, np.float64]:\n",
    "    print(np.finfo(dtype).min)\n",
    "    print(np.finfo(dtype).max)\n",
    "    print(np.finfo(dtype).eps)"
   ]
  },
  {
   "cell_type": "code",
   "execution_count": null,
   "metadata": {
    "collapsed": false
   },
   "outputs": [],
   "source": [
    "# 49 没懂\n"
   ]
  },
  {
   "cell_type": "code",
   "execution_count": 49,
   "metadata": {
    "collapsed": false
   },
   "outputs": [
    {
     "name": "stdout",
     "output_type": "stream",
     "text": [
      "[ 0  1  2  3  4  5  6  7  8  9 10 11 12 13 14 15 16 17 18 19 20 21 22 23\n",
      " 24 25 26 27 28 29 30 31 32 33 34 35 36 37 38 39 40 41 42 43 44 45 46 47\n",
      " 48 49 50 51 52 53 54 55 56 57 58 59 60 61 62 63 64 65 66 67 68 69 70 71\n",
      " 72 73 74 75 76 77 78 79 80 81 82 83 84 85 86 87 88 89 90 91 92 93 94 95\n",
      " 96 97 98 99]\n",
      "88.11920128982057\n",
      "88\n",
      "88\n"
     ]
    }
   ],
   "source": [
    "z = np.arange(100)\n",
    "print(z)\n",
    "v = np.random.uniform(0,100)\n",
    "print(v)\n",
    "index = (np.abs(z-v)).argmin()\n",
    "print(index)\n",
    "print (z[index])"
   ]
  },
  {
   "cell_type": "code",
   "execution_count": 50,
   "metadata": {
    "collapsed": false
   },
   "outputs": [
    {
     "name": "stdout",
     "output_type": "stream",
     "text": [
      "[((0., 0.), (0., 0., 0.)) ((0., 0.), (0., 0., 0.))\n",
      " ((0., 0.), (0., 0., 0.)) ((0., 0.), (0., 0., 0.))\n",
      " ((0., 0.), (0., 0., 0.)) ((0., 0.), (0., 0., 0.))\n",
      " ((0., 0.), (0., 0., 0.)) ((0., 0.), (0., 0., 0.))\n",
      " ((0., 0.), (0., 0., 0.)) ((0., 0.), (0., 0., 0.))]\n"
     ]
    }
   ],
   "source": [
    "z = np.zeros(10, [ ('position', [ ('x', float, 1),\n",
    "                                  ('y', float, 1)]),\n",
    "                   ('color',    [ ('r', float, 1),\n",
    "                                  ('g', float, 1),\n",
    "                                  ('b', float, 1)])])\n",
    "print (z)"
   ]
  },
  {
   "cell_type": "code",
   "execution_count": 52,
   "metadata": {
    "collapsed": false
   },
   "outputs": [
    {
     "name": "stdout",
     "output_type": "stream",
     "text": [
      "[[0.         0.77014142 1.0171233  0.30934981 0.75493216 0.97898025\n",
      "  0.91609298 0.57487248 0.7019559  0.46479445]\n",
      " [0.77014142 0.         0.25022254 0.58902985 0.77930292 0.21090578\n",
      "  0.7366332  0.94875564 0.11915953 0.61163651]\n",
      " [1.0171233  0.25022254 0.         0.83611356 0.90005801 0.03981284\n",
      "  0.7964588  1.13184017 0.34926319 0.80158904]\n",
      " [0.30934981 0.58902985 0.83611356 0.         0.88953294 0.79630379\n",
      "  0.99245372 0.81675624 0.48936573 0.58774483]\n",
      " [0.75493216 0.77930292 0.90005801 0.88953294 0.         0.88219587\n",
      "  0.22206284 0.35670926 0.82708897 0.30426669]\n",
      " [0.97898025 0.21090578 0.03981284 0.79630379 0.88219587 0.\n",
      "  0.78745222 1.10494991 0.30959269 0.7727972 ]\n",
      " [0.91609298 0.7366332  0.7964588  0.99245372 0.22206284 0.78745222\n",
      "  0.         0.5786966  0.81275338 0.45169782]\n",
      " [0.57487248 0.94875564 1.13184017 0.81675624 0.35670926 1.10494991\n",
      "  0.5786966  0.         0.9534253  0.33712569]\n",
      " [0.7019559  0.11915953 0.34926319 0.48936573 0.82708897 0.30959269\n",
      "  0.81275338 0.9534253  0.         0.62005514]\n",
      " [0.46479445 0.61163651 0.80158904 0.58774483 0.30426669 0.7727972\n",
      "  0.45169782 0.33712569 0.62005514 0.        ]]\n"
     ]
    },
    {
     "data": {
      "text/plain": [
       "100"
      ]
     },
     "execution_count": 52,
     "metadata": {},
     "output_type": "execute_result"
    }
   ],
   "source": [
    "z = np.random.random((10,2))\n",
    "x,y = np.atleast_2d(z[:,0], z[:,1])\n",
    "e = np.sqrt( (x-x.T)**2 + (y-y.T)**2)\n",
    "print (e)\n",
    "e.size"
   ]
  },
  {
   "cell_type": "code",
   "execution_count": 54,
   "metadata": {
    "collapsed": false
   },
   "outputs": [
    {
     "name": "stdout",
     "output_type": "stream",
     "text": [
      "[0 1 2 3 4 5 6 7 8 9]\n"
     ]
    },
    {
     "data": {
      "text/plain": [
       "array([0., 1., 2., 3., 4., 5., 6., 7., 8., 9.], dtype=float32)"
      ]
     },
     "execution_count": 54,
     "metadata": {},
     "output_type": "execute_result"
    }
   ],
   "source": [
    "z = np.arange(10,dtype=np.int32)\n",
    "print(z)\n",
    "z = z.astype(np.float32,copy=False)\n",
    "z"
   ]
  },
  {
   "cell_type": "code",
   "execution_count": 55,
   "metadata": {
    "collapsed": true
   },
   "outputs": [],
   "source": [
    "#54\n"
   ]
  },
  {
   "cell_type": "code",
   "execution_count": 56,
   "metadata": {
    "collapsed": false
   },
   "outputs": [
    {
     "name": "stdout",
     "output_type": "stream",
     "text": [
      "(0, 0) 0\n",
      "(0, 1) 1\n",
      "(0, 2) 2\n",
      "(1, 0) 3\n",
      "(1, 1) 4\n",
      "(1, 2) 5\n",
      "(2, 0) 6\n",
      "(2, 1) 7\n",
      "(2, 2) 8\n",
      "(0, 0) 0\n",
      "(0, 1) 1\n",
      "(0, 2) 2\n",
      "(1, 0) 3\n",
      "(1, 1) 4\n",
      "(1, 2) 5\n",
      "(2, 0) 6\n",
      "(2, 1) 7\n",
      "(2, 2) 8\n"
     ]
    }
   ],
   "source": [
    "z = np.arange(9).reshape(3,3)\n",
    "for index, value in np.ndenumerate(z):\n",
    "    print (index, value)\n",
    "for index in np.ndindex(z.shape):\n",
    "    print (index, z[index])"
   ]
  },
  {
   "cell_type": "code",
   "execution_count": 57,
   "metadata": {
    "collapsed": false
   },
   "outputs": [
    {
     "name": "stdout",
     "output_type": "stream",
     "text": [
      "[[0.36787944 0.44822088 0.51979489 0.57375342 0.60279818 0.60279818\n",
      "  0.57375342 0.51979489 0.44822088 0.36787944]\n",
      " [0.44822088 0.54610814 0.63331324 0.69905581 0.73444367 0.73444367\n",
      "  0.69905581 0.63331324 0.54610814 0.44822088]\n",
      " [0.51979489 0.63331324 0.73444367 0.81068432 0.85172308 0.85172308\n",
      "  0.81068432 0.73444367 0.63331324 0.51979489]\n",
      " [0.57375342 0.69905581 0.81068432 0.89483932 0.9401382  0.9401382\n",
      "  0.89483932 0.81068432 0.69905581 0.57375342]\n",
      " [0.60279818 0.73444367 0.85172308 0.9401382  0.98773022 0.98773022\n",
      "  0.9401382  0.85172308 0.73444367 0.60279818]\n",
      " [0.60279818 0.73444367 0.85172308 0.9401382  0.98773022 0.98773022\n",
      "  0.9401382  0.85172308 0.73444367 0.60279818]\n",
      " [0.57375342 0.69905581 0.81068432 0.89483932 0.9401382  0.9401382\n",
      "  0.89483932 0.81068432 0.69905581 0.57375342]\n",
      " [0.51979489 0.63331324 0.73444367 0.81068432 0.85172308 0.85172308\n",
      "  0.81068432 0.73444367 0.63331324 0.51979489]\n",
      " [0.44822088 0.54610814 0.63331324 0.69905581 0.73444367 0.73444367\n",
      "  0.69905581 0.63331324 0.54610814 0.44822088]\n",
      " [0.36787944 0.44822088 0.51979489 0.57375342 0.60279818 0.60279818\n",
      "  0.57375342 0.51979489 0.44822088 0.36787944]]\n"
     ]
    }
   ],
   "source": [
    "x,y = np.meshgrid(np.linspace(-1,1,10),np.linspace(-1,1,10))\n",
    "d = np.sqrt(x*x+y*y)\n",
    "sigma,mu = 1, 0\n",
    "g = np.exp(-((d-mu)**2/(2*sigma**2)))\n",
    "print(g)"
   ]
  },
  {
   "cell_type": "code",
   "execution_count": 62,
   "metadata": {
    "collapsed": false
   },
   "outputs": [
    {
     "name": "stdout",
     "output_type": "stream",
     "text": [
      "[[1. 0. 1. 1. 1. 0. 1. 1. 0. 0.]\n",
      " [0. 1. 1. 0. 1. 0. 1. 1. 1. 0.]\n",
      " [0. 1. 1. 0. 1. 0. 0. 1. 1. 0.]\n",
      " [1. 0. 0. 0. 0. 1. 1. 0. 1. 0.]\n",
      " [1. 1. 1. 1. 0. 1. 1. 0. 0. 0.]\n",
      " [0. 0. 0. 0. 1. 0. 1. 0. 0. 1.]\n",
      " [0. 0. 0. 0. 0. 1. 1. 1. 1. 0.]\n",
      " [0. 0. 1. 1. 1. 0. 1. 0. 0. 0.]\n",
      " [1. 1. 1. 0. 0. 1. 1. 1. 0. 1.]\n",
      " [1. 0. 0. 0. 1. 1. 0. 0. 1. 1.]]\n"
     ]
    }
   ],
   "source": [
    "n = 10\n",
    "p = 50\n",
    "z = np.zeros((n,n))\n",
    "np.put(z, np.random.choice(range(n*n), p, replace=False),1)\n",
    "print (z)"
   ]
  },
  {
   "cell_type": "code",
   "execution_count": 69,
   "metadata": {
    "collapsed": false
   },
   "outputs": [
    {
     "name": "stdout",
     "output_type": "stream",
     "text": [
      "[[ 0.46368124  0.25961031  0.3985741  -0.27133935 -0.30518919 -0.30142789\n",
      "  -0.09959836 -0.36512071  0.34010729 -0.11929744]\n",
      " [ 0.03056752 -0.2626911   0.21232004 -0.15130686 -0.24860424  0.09536425\n",
      "   0.01652035  0.33321101  0.16104776 -0.18642875]\n",
      " [ 0.38999585 -0.29038258  0.26062168  0.0730664   0.34271225  0.16164787\n",
      "  -0.19832437  0.2419075  -0.38483949 -0.59640511]\n",
      " [-0.09054235 -0.25393725 -0.18847435 -0.13571914  0.47442247  0.36662169\n",
      "  -0.13470961 -0.08098294  0.09547804 -0.05215656]\n",
      " [-0.06060338  0.00282265 -0.15347739  0.14551773 -0.05148484  0.0331364\n",
      "  -0.03823225  0.09137173 -0.31566115  0.34661049]]\n"
     ]
    }
   ],
   "source": [
    "x = np.random.rand(5,10)\n",
    "\n",
    "mean_x = x.mean(axis=1)\n",
    "\n",
    "y = x-x.mean(axis=1,keepdims=True)\n",
    "print(y)"
   ]
  },
  {
   "cell_type": "code",
   "execution_count": 71,
   "metadata": {
    "collapsed": false
   },
   "outputs": [
    {
     "name": "stdout",
     "output_type": "stream",
     "text": [
      "[[1 2 3]\n",
      " [0 4 1]\n",
      " [2 0 4]]\n",
      "[[0 4 1]\n",
      " [1 2 3]\n",
      " [2 0 4]]\n"
     ]
    }
   ],
   "source": [
    "z = np.random.randint(0,5,(3,3))\n",
    "print(z)\n",
    "print(z[z[:,2].argsort()])"
   ]
  },
  {
   "cell_type": "code",
   "execution_count": 72,
   "metadata": {
    "collapsed": false
   },
   "outputs": [
    {
     "name": "stdout",
     "output_type": "stream",
     "text": [
      "False\n"
     ]
    }
   ],
   "source": [
    "z = np.random.randint(0,3,(3,10))\n",
    "print((~z.any(axis=0)).any())"
   ]
  },
  {
   "cell_type": "code",
   "execution_count": 73,
   "metadata": {
    "collapsed": false
   },
   "outputs": [
    {
     "name": "stdout",
     "output_type": "stream",
     "text": [
      "0\n"
     ]
    }
   ],
   "source": [
    "z = np.random.randint(0,3,(3,10))\n",
    "b = 0.5\n",
    "print(z.flat[np.abs(z-b).argmin()])\n"
   ]
  },
  {
   "cell_type": "code",
   "execution_count": 74,
   "metadata": {
    "collapsed": false
   },
   "outputs": [
    {
     "name": "stdout",
     "output_type": "stream",
     "text": [
      "[[0 1 2]\n",
      " [1 2 3]\n",
      " [2 3 4]]\n"
     ]
    }
   ],
   "source": [
    "a = np.arange(3).reshape(3,1)\n",
    "b = np.arange(3).reshape(1,3)\n",
    "it = np.nditer([a,b,None])\n",
    "for x,y,z in it: \n",
    "    z[...] = x + y\n",
    "print (it.operands[2])"
   ]
  },
  {
   "cell_type": "code",
   "execution_count": 75,
   "metadata": {
    "collapsed": false
   },
   "outputs": [
    {
     "name": "stdout",
     "output_type": "stream",
     "text": [
      "range_10\n"
     ]
    }
   ],
   "source": [
    "# 63 \n",
    "class NamedArray(np.ndarray):\n",
    "    def __new__(cls, array, name=\"no name\"):\n",
    "        obj = np.asarray(array).view(cls)\n",
    "        obj.name = name\n",
    "        return obj\n",
    "    def __array_finalize__(self, obj):\n",
    "        if obj is None: return\n",
    "        self.info = getattr(obj, 'name', \"no name\")\n",
    "\n",
    "Z = NamedArray(np.arange(10), \"range_10\")\n",
    "print (Z.name)"
   ]
  },
  {
   "cell_type": "code",
   "execution_count": 77,
   "metadata": {
    "collapsed": false
   },
   "outputs": [
    {
     "name": "stdout",
     "output_type": "stream",
     "text": [
      "[2. 1. 2. 2. 4. 2. 3. 4. 5. 5.]\n",
      "[3. 1. 3. 3. 7. 3. 5. 7. 9. 9.]\n"
     ]
    }
   ],
   "source": [
    "z = np.ones(10)\n",
    "x = np.random.randint(0,len(z),20)\n",
    "z = z+np.bincount(x,minlength=len(z))\n",
    "print(z)\n",
    "np.add.at(z,x,1)\n",
    "print(z)"
   ]
  },
  {
   "cell_type": "code",
   "execution_count": 78,
   "metadata": {
    "collapsed": false
   },
   "outputs": [
    {
     "name": "stdout",
     "output_type": "stream",
     "text": [
      "[0. 1. 3. 9. 3. 4. 1.]\n"
     ]
    }
   ],
   "source": [
    "z = [1,2,3,4,5,6]\n",
    "x = [1,3,9,3,4,1]\n",
    "y = np.bincount(z,x)\n",
    "print (y)\n"
   ]
  },
  {
   "cell_type": "code",
   "execution_count": 79,
   "metadata": {
    "collapsed": false
   },
   "outputs": [
    {
     "name": "stdout",
     "output_type": "stream",
     "text": [
      "8\n"
     ]
    }
   ],
   "source": [
    "w,h = 16,16\n",
    "I = np.random.randint(0,2,(h,w,3)).astype(np.ubyte)\n",
    "F = I[...,0]*(256*256) + I[...,1]*256 +I[...,2]\n",
    "n = len(np.unique(F))\n",
    "print (n)"
   ]
  },
  {
   "cell_type": "code",
   "execution_count": 82,
   "metadata": {
    "collapsed": false
   },
   "outputs": [
    {
     "name": "stdout",
     "output_type": "stream",
     "text": [
      "[[0.99522623 0.4578449  0.5677333  0.27138663]\n",
      " [0.79643672 0.11455756 0.5445263  0.97859113]\n",
      " [0.99473303 0.0934023  0.94074736 0.40030563]\n",
      " [0.15790317 0.61646539 0.44674476 0.51676408]]\n",
      "8.893368491080325\n"
     ]
    }
   ],
   "source": [
    "z = np.random.random((4,4))\n",
    "print(z)\n",
    "y = z.sum(axis=(-2,-1))\n",
    "print(y)"
   ]
  },
  {
   "cell_type": "code",
   "execution_count": 83,
   "metadata": {
    "collapsed": false
   },
   "outputs": [
    {
     "name": "stdout",
     "output_type": "stream",
     "text": [
      "0    0.412345\n",
      "1    0.490048\n",
      "2    0.497680\n",
      "3    0.598474\n",
      "4    0.454446\n",
      "5    0.653391\n",
      "6    0.400081\n",
      "7    0.570180\n",
      "8    0.421691\n",
      "9    0.365449\n",
      "dtype: float64\n"
     ]
    }
   ],
   "source": [
    "z = np.random.uniform(0,1,100)\n",
    "x = np.random.randint(0,10,100)\n",
    "import pandas as pd\n",
    "print(pd.Series(z).groupby(x).mean())"
   ]
  },
  {
   "cell_type": "code",
   "execution_count": 85,
   "metadata": {
    "collapsed": false
   },
   "outputs": [
    {
     "data": {
      "text/plain": [
       "array([1.6776261 , 0.81944802, 2.010156  , 1.54501056, 1.48736675])"
      ]
     },
     "execution_count": 85,
     "metadata": {},
     "output_type": "execute_result"
    }
   ],
   "source": [
    "z = np.random.uniform(0,1,(5,5))\n",
    "x = np.random.uniform(0,1,(5,5))\n",
    "np.diag(np.dot(z,x))"
   ]
  },
  {
   "cell_type": "code",
   "execution_count": 86,
   "metadata": {
    "collapsed": false
   },
   "outputs": [
    {
     "name": "stdout",
     "output_type": "stream",
     "text": [
      "[1. 0. 0. 0. 2. 0. 0. 0. 3. 0. 0. 0. 4. 0. 0. 0. 5.]\n"
     ]
    }
   ],
   "source": [
    "Z = np.array([1,2,3,4,5])\n",
    "nz = 3\n",
    "Z0 = np.zeros(len(Z) + (len(Z)-1)*(nz))\n",
    "Z0[::nz+1] = Z\n",
    "print (Z0)"
   ]
  },
  {
   "cell_type": "code",
   "execution_count": 2,
   "metadata": {
    "collapsed": false
   },
   "outputs": [
    {
     "name": "stdout",
     "output_type": "stream",
     "text": [
      "[[[2. 2. 2.]\n",
      "  [2. 2. 2.]\n",
      "  [2. 2. 2.]\n",
      "  [2. 2. 2.]\n",
      "  [2. 2. 2.]]\n",
      "\n",
      " [[2. 2. 2.]\n",
      "  [2. 2. 2.]\n",
      "  [2. 2. 2.]\n",
      "  [2. 2. 2.]\n",
      "  [2. 2. 2.]]\n",
      "\n",
      " [[2. 2. 2.]\n",
      "  [2. 2. 2.]\n",
      "  [2. 2. 2.]\n",
      "  [2. 2. 2.]\n",
      "  [2. 2. 2.]]\n",
      "\n",
      " [[2. 2. 2.]\n",
      "  [2. 2. 2.]\n",
      "  [2. 2. 2.]\n",
      "  [2. 2. 2.]\n",
      "  [2. 2. 2.]]\n",
      "\n",
      " [[2. 2. 2.]\n",
      "  [2. 2. 2.]\n",
      "  [2. 2. 2.]\n",
      "  [2. 2. 2.]\n",
      "  [2. 2. 2.]]]\n"
     ]
    }
   ],
   "source": [
    "import numpy as np\n",
    "a = np.ones((5,5,3))\n",
    "b = 2*np.ones((5,5))\n",
    "print(a*b[:,:,None])"
   ]
  },
  {
   "cell_type": "code",
   "execution_count": 3,
   "metadata": {
    "collapsed": false
   },
   "outputs": [
    {
     "name": "stdout",
     "output_type": "stream",
     "text": [
      "[[ 0  1  2  3  4]\n",
      " [10 11 12 13 14]\n",
      " [ 5  6  7  8  9]\n",
      " [15 16 17 18 19]\n",
      " [20 21 22 23 24]]\n"
     ]
    }
   ],
   "source": [
    "z = np.arange(25).reshape(5,5)\n",
    "z[[1,2]]=z[[2,1]]\n",
    "print(z)"
   ]
  },
  {
   "cell_type": "code",
   "execution_count": 4,
   "metadata": {
    "collapsed": false
   },
   "outputs": [
    {
     "name": "stdout",
     "output_type": "stream",
     "text": [
      "[( 0, 45) ( 0, 73) ( 1, 83) ( 1, 88) (12, 31) (12, 74) (16, 67) (22, 82)\n",
      " (22, 93) (31, 74) (33, 35) (33, 89) (35, 89) (45, 73) (46, 46) (46, 54)\n",
      " (49, 67) (49, 71) (59, 78) (59, 85) (67, 67) (67, 71) (69, 84) (69, 97)\n",
      " (78, 85) (82, 93) (83, 88) (84, 97)]\n"
     ]
    }
   ],
   "source": [
    "faces = np.random.randint(0,100,(10,3))\n",
    "F = np.roll(faces.repeat(2,axis=1),-1,axis=1)\n",
    "F = F.reshape(len(F)*3,2)\n",
    "F = np.sort(F,axis=1)\n",
    "G = F.view( dtype=[('p0',F.dtype),('p1',F.dtype)] )\n",
    "G = np.unique(G)\n",
    "print (G)"
   ]
  },
  {
   "cell_type": "code",
   "execution_count": 5,
   "metadata": {
    "collapsed": false
   },
   "outputs": [
    {
     "name": "stdout",
     "output_type": "stream",
     "text": [
      "[1 1 2 3 4 4 6]\n"
     ]
    }
   ],
   "source": [
    "c = np.bincount([1,1,2,3,4,4,6])\n",
    "z = np.repeat(np.arange(len(c)),c)\n",
    "print(z)"
   ]
  },
  {
   "cell_type": "code",
   "execution_count": 7,
   "metadata": {
    "collapsed": false
   },
   "outputs": [
    {
     "name": "stdout",
     "output_type": "stream",
     "text": [
      "[ 1.  2.  3.  4.  5.  6.  7.  8.  9. 10. 11. 12. 13. 14. 15. 16. 17. 18.]\n"
     ]
    }
   ],
   "source": [
    "def moving_average(a,n=3):\n",
    "    ret = np.cumsum(a,dtype=float)\n",
    "    ret[n:]=ret[n:]-ret[:-n]\n",
    "    return ret[n-1:]/n\n",
    "z = np.arange(20)\n",
    "print(moving_average(z,n=3))"
   ]
  },
  {
   "cell_type": "code",
   "execution_count": 8,
   "metadata": {
    "collapsed": false
   },
   "outputs": [
    {
     "name": "stdout",
     "output_type": "stream",
     "text": [
      "[[0 1 2]\n",
      " [1 2 3]\n",
      " [2 3 4]\n",
      " [3 4 5]\n",
      " [4 5 6]\n",
      " [5 6 7]\n",
      " [6 7 8]\n",
      " [7 8 9]]\n"
     ]
    }
   ],
   "source": [
    "from numpy.lib import stride_tricks\n",
    "\n",
    "def rolling(a, window):\n",
    "    shape = (a.size - window + 1, window)\n",
    "    strides = (a.itemsize, a.itemsize)\n",
    "    return stride_tricks.as_strided(a, shape=shape, strides=strides)\n",
    "Z = rolling(np.arange(10), 3)\n",
    "\n",
    "print (Z)"
   ]
  },
  {
   "cell_type": "code",
   "execution_count": 9,
   "metadata": {
    "collapsed": false
   },
   "outputs": [
    {
     "data": {
      "text/plain": [
       "array([0, 0, 1, 1, 0, 0, 0, 1, 1, 1, 1, 1, 0, 1, 1, 0, 1, 1, 0, 1, 1, 0,\n",
       "       0, 0, 1, 1, 0, 1, 1, 0, 0, 0, 0, 0, 1, 0, 0, 1, 1, 0, 0, 1, 1, 1,\n",
       "       0, 0, 1, 1, 0, 0, 0, 0, 0, 1, 0, 1, 0, 1, 0, 0, 1, 0, 1, 1, 1, 0,\n",
       "       1, 0, 0, 0, 0, 1, 0, 0, 0, 1, 0, 0, 0, 0, 1, 0, 0, 1, 0, 0, 1, 0,\n",
       "       1, 1, 1, 1, 1, 0, 0, 1, 0, 1, 1, 0])"
      ]
     },
     "execution_count": 9,
     "metadata": {},
     "output_type": "execute_result"
    }
   ],
   "source": [
    "z = np.random.randint(0,2,100)\n",
    "np.logical_not(z,out=z)\n"
   ]
  },
  {
   "cell_type": "code",
   "execution_count": 10,
   "metadata": {
    "collapsed": false
   },
   "outputs": [
    {
     "name": "stdout",
     "output_type": "stream",
     "text": [
      "[ 7.48740334  1.03101274  3.03875684  4.95504141  4.21578529  6.58423492\n",
      "  6.64694243  1.31905217 10.61809871  4.02939734]\n"
     ]
    }
   ],
   "source": [
    "def distance(P0,P1,p):\n",
    "    T = P1 - P0\n",
    "    L = (T**2).sum(axis=1)\n",
    "    U = -((P0[:,0]-p[...,0])*T[:,0] + (P0[:,1]-p[...,1])*T[:,1]) / L\n",
    "    U = U.reshape(len(U),1)\n",
    "    D = P0 + U*T - p\n",
    "    return np.sqrt((D**2).sum(axis=1))\n",
    "\n",
    "P0 = np.random.uniform(-10,10,(10,2))\n",
    "P1 = np.random.uniform(-10,10,(10,2))\n",
    "p  = np.random.uniform(-10,10,( 1,2))\n",
    "\n",
    "print (distance(P0, P1, p))"
   ]
  },
  {
   "cell_type": "code",
   "execution_count": 11,
   "metadata": {
    "collapsed": false
   },
   "outputs": [
    {
     "name": "stdout",
     "output_type": "stream",
     "text": [
      "[[ 3.24960839  1.98658697  9.13859997  0.39139816 16.53473125  7.98542364\n",
      "   4.28531583  7.66649666 12.99377088  9.97222514]\n",
      " [12.72924227  6.54131485 12.7497207   1.5042073   6.08350429  0.9088473\n",
      "   3.26247239 14.02612354  8.4786613   1.69603459]\n",
      " [ 5.99005573 10.45855025  6.54490048  7.00647758  3.86974802  3.36823085\n",
      "   3.34310166 12.64169111  7.25827658  5.1219977 ]\n",
      " [ 1.91837723 10.3604174   4.33187931  8.3719311   0.12916477  3.57025929\n",
      "   6.21143259  9.25818011  3.95052955  8.61907149]\n",
      " [ 2.7318587   0.37083321 11.0105769   0.1444491   8.88186254  6.14325819\n",
      "   1.0796524   0.40889079  5.82649856  5.3936059 ]\n",
      " [13.32055589  0.96581781 16.55398697  3.13647424  1.17706525  6.34027237\n",
      "   6.22489641  8.74129356  3.12987491  3.61501281]\n",
      " [ 2.5696953   5.04709433  5.13578551  5.740293    9.0686658   1.2374549\n",
      "   7.00239277  0.14987007  5.12357856 11.15975405]\n",
      " [ 8.09115032  5.92395042 17.92609074  6.75816364 10.22133561 12.61745541\n",
      "   5.6215565   2.59362142  8.17180866  0.83107336]\n",
      " [ 6.05304103  9.0006703   7.48846026  5.82551705  2.50478619  1.95470367\n",
      "   2.6340439  11.18595245  5.78754056  4.69948119]\n",
      " [ 6.41149854  4.15276759 15.88435592  4.75508809  9.99813951 10.78327238\n",
      "   3.61318241  2.11729411  7.64706465  1.06889039]]\n"
     ]
    }
   ],
   "source": [
    "P0 = np.random.uniform(-10, 10, (10,2))\n",
    "P1 = np.random.uniform(-10,10,(10,2))\n",
    "p = np.random.uniform(-10, 10, (10,2))\n",
    "print (np.array([distance(P0,P1,p_i) for p_i in p]))"
   ]
  },
  {
   "cell_type": "code",
   "execution_count": 10,
   "metadata": {
    "collapsed": false
   },
   "outputs": [
    {
     "name": "stdout",
     "output_type": "stream",
     "text": [
      "[[7 4 6 5 3 8 4 1 0 3]\n",
      " [4 2 9 8 7 9 6 6 8 0]\n",
      " [7 4 9 5 3 1 5 5 0 6]\n",
      " [8 4 6 7 7 4 9 8 7 7]\n",
      " [7 9 6 9 5 5 1 5 5 1]\n",
      " [9 9 5 4 5 2 7 4 4 0]\n",
      " [4 1 7 4 9 7 4 2 0 3]\n",
      " [4 1 6 9 9 6 8 6 3 0]\n",
      " [1 7 1 8 2 9 6 0 5 1]\n",
      " [1 9 2 8 5 9 3 5 7 3]]\n",
      "[[0 0 0 0 0]\n",
      " [0 7 4 6 5]\n",
      " [0 4 2 9 8]\n",
      " [0 7 4 9 5]\n",
      " [0 8 4 6 7]]\n"
     ]
    },
    {
     "name": "stderr",
     "output_type": "stream",
     "text": [
      "C:\\Users\\Administrator\\Anaconda3\\lib\\site-packages\\ipykernel\\__main__.py:50: FutureWarning: Using a non-tuple sequence for multidimensional indexing is deprecated; use `arr[tuple(seq)]` instead of `arr[seq]`. In the future this will be interpreted as an array index, `arr[np.array(seq)]`, which will result either in an error or a different result.\n"
     ]
    }
   ],
   "source": [
    "# 80#\n",
    "# z = np.random.randint(0,10,(10,10))\n",
    "# shape = (5,5)\n",
    "# fill = 0\n",
    "# position = (1,1)\n",
    "# r = np.ones(shape,dtype=z.dtype)*fill\n",
    "# p = np.array(list(position)).astype(int)\n",
    "# rs = np.array(list(r.shape)).astype(int)\n",
    "# zs = np.array(list(z.shape)).astype(int)\n",
    "\n",
    "# r_start = np.zeros((len(shape),)).astype(int)\n",
    "# r_stop = np.array(list(shape)).astype(int)\n",
    "# z_start = (r-rs//2)\n",
    "# z_stop = (p+rs//2)+rs%2\n",
    "\n",
    "# r_start = (r_start-np.minimum(z_start,0)).tolist()\n",
    "# z_start = (np.maximum(z_start,0)).tolist()\n",
    "# r_stop = np.maximum(r_start,(r_stop-np.maximum(z_stop-zs,0))).tolist()\n",
    "# z_stop = (np.minimum(z_stop,zs)).tolist()\n",
    "\n",
    "# r = [slice(start,stop) for start,stop in zip(r_start,r_stop)]\n",
    "# o = [slice(start,stop) for start,stop in zip(z_start,z_stop)]\n",
    "# r[z] = z[o]\n",
    "# print(z)\n",
    "# print(r)\n",
    "\n",
    "\n",
    "Z = np.random.randint(0,10,(10,10))\n",
    "shape = (5,5)\n",
    "fill  = 0\n",
    "position = (1,1)\n",
    "\n",
    "R = np.ones(shape, dtype=Z.dtype)*fill\n",
    "P  = np.array(list(position)).astype(int)\n",
    "Rs = np.array(list(R.shape)).astype(int)\n",
    "Zs = np.array(list(Z.shape)).astype(int)\n",
    "\n",
    "R_start = np.zeros((len(shape),)).astype(int)\n",
    "R_stop  = np.array(list(shape)).astype(int)\n",
    "Z_start = (P-Rs//2)\n",
    "Z_stop  = (P+Rs//2)+Rs%2\n",
    "\n",
    "R_start = (R_start - np.minimum(Z_start,0)).tolist()\n",
    "Z_start = (np.maximum(Z_start,0)).tolist()\n",
    "R_stop = np.maximum(R_start, (R_stop - np.maximum(Z_stop-Zs,0))).tolist()\n",
    "Z_stop = (np.minimum(Z_stop,Zs)).tolist()\n",
    "\n",
    "r = [slice(start,stop) for start,stop in zip(R_start,R_stop)]\n",
    "z = [slice(start,stop) for start,stop in zip(Z_start,Z_stop)]\n",
    "R[r] = Z[z]\n",
    "print (Z)\n",
    "print (R)"
   ]
  },
  {
   "cell_type": "code",
   "execution_count": 13,
   "metadata": {
    "collapsed": false
   },
   "outputs": [
    {
     "data": {
      "text/plain": [
       "array([[ 1,  2,  3,  4],\n",
       "       [ 2,  3,  4,  5],\n",
       "       [ 3,  4,  5,  6],\n",
       "       [ 4,  5,  6,  7],\n",
       "       [ 5,  6,  7,  8],\n",
       "       [ 6,  7,  8,  9],\n",
       "       [ 7,  8,  9, 10],\n",
       "       [ 8,  9, 10, 11],\n",
       "       [ 9, 10, 11, 12],\n",
       "       [10, 11, 12, 13],\n",
       "       [11, 12, 13, 14]])"
      ]
     },
     "execution_count": 13,
     "metadata": {},
     "output_type": "execute_result"
    }
   ],
   "source": [
    "z = np.arange(1,15)\n",
    "x = stride_tricks.as_strided(z,(11,4),(4,4))\n",
    "print(x)"
   ]
  },
  {
   "cell_type": "code",
   "execution_count": 14,
   "metadata": {
    "collapsed": false
   },
   "outputs": [
    {
     "name": "stdout",
     "output_type": "stream",
     "text": [
      "10\n"
     ]
    }
   ],
   "source": [
    "z = np.random.uniform(0,1,(10,10))\n",
    "u,s,v = np.linalg.svd(z)\n",
    "rank = np.sum(s>1e-10)\n",
    "print(rank)"
   ]
  },
  {
   "cell_type": "code",
   "execution_count": 16,
   "metadata": {
    "collapsed": false
   },
   "outputs": [
    {
     "name": "stdout",
     "output_type": "stream",
     "text": [
      "[1 7 8 5 9 1 7 3 0 2 6 2 1 4 1 1 6 6 0 8 6 0 4 7 5 2 6 0 2 1 3 1 3 1 7 3 3\n",
      " 3 9 0 0 6 5 2 4 2 9 8 1 4]\n",
      "1\n"
     ]
    }
   ],
   "source": [
    "z = np.random.randint(0,10,50)\n",
    "print(z)\n",
    "print(np.bincount(z).argmax())"
   ]
  },
  {
   "cell_type": "code",
   "execution_count": 19,
   "metadata": {
    "collapsed": false
   },
   "outputs": [
    {
     "name": "stdout",
     "output_type": "stream",
     "text": [
      "[[[[4 1 4]\n",
      "   [3 0 3]\n",
      "   [1 2 3]]\n",
      "\n",
      "  [[1 4 3]\n",
      "   [0 3 1]\n",
      "   [2 3 4]]\n",
      "\n",
      "  [[4 3 1]\n",
      "   [3 1 3]\n",
      "   [3 4 1]]\n",
      "\n",
      "  [[3 1 4]\n",
      "   [1 3 3]\n",
      "   [4 1 4]]\n",
      "\n",
      "  [[1 4 2]\n",
      "   [3 3 3]\n",
      "   [1 4 4]]\n",
      "\n",
      "  [[4 2 0]\n",
      "   [3 3 1]\n",
      "   [4 4 3]]\n",
      "\n",
      "  [[2 0 2]\n",
      "   [3 1 3]\n",
      "   [4 3 0]]\n",
      "\n",
      "  [[0 2 1]\n",
      "   [1 3 2]\n",
      "   [3 0 0]]]\n",
      "\n",
      "\n",
      " [[[3 0 3]\n",
      "   [1 2 3]\n",
      "   [1 3 2]]\n",
      "\n",
      "  [[0 3 1]\n",
      "   [2 3 4]\n",
      "   [3 2 3]]\n",
      "\n",
      "  [[3 1 3]\n",
      "   [3 4 1]\n",
      "   [2 3 1]]\n",
      "\n",
      "  [[1 3 3]\n",
      "   [4 1 4]\n",
      "   [3 1 3]]\n",
      "\n",
      "  [[3 3 3]\n",
      "   [1 4 4]\n",
      "   [1 3 2]]\n",
      "\n",
      "  [[3 3 1]\n",
      "   [4 4 3]\n",
      "   [3 2 0]]\n",
      "\n",
      "  [[3 1 3]\n",
      "   [4 3 0]\n",
      "   [2 0 1]]\n",
      "\n",
      "  [[1 3 2]\n",
      "   [3 0 0]\n",
      "   [0 1 4]]]\n",
      "\n",
      "\n",
      " [[[1 2 3]\n",
      "   [1 3 2]\n",
      "   [3 1 1]]\n",
      "\n",
      "  [[2 3 4]\n",
      "   [3 2 3]\n",
      "   [1 1 3]]\n",
      "\n",
      "  [[3 4 1]\n",
      "   [2 3 1]\n",
      "   [1 3 2]]\n",
      "\n",
      "  [[4 1 4]\n",
      "   [3 1 3]\n",
      "   [3 2 3]]\n",
      "\n",
      "  [[1 4 4]\n",
      "   [1 3 2]\n",
      "   [2 3 2]]\n",
      "\n",
      "  [[4 4 3]\n",
      "   [3 2 0]\n",
      "   [3 2 1]]\n",
      "\n",
      "  [[4 3 0]\n",
      "   [2 0 1]\n",
      "   [2 1 0]]\n",
      "\n",
      "  [[3 0 0]\n",
      "   [0 1 4]\n",
      "   [1 0 0]]]\n",
      "\n",
      "\n",
      " [[[1 3 2]\n",
      "   [3 1 1]\n",
      "   [4 2 2]]\n",
      "\n",
      "  [[3 2 3]\n",
      "   [1 1 3]\n",
      "   [2 2 3]]\n",
      "\n",
      "  [[2 3 1]\n",
      "   [1 3 2]\n",
      "   [2 3 1]]\n",
      "\n",
      "  [[3 1 3]\n",
      "   [3 2 3]\n",
      "   [3 1 0]]\n",
      "\n",
      "  [[1 3 2]\n",
      "   [2 3 2]\n",
      "   [1 0 4]]\n",
      "\n",
      "  [[3 2 0]\n",
      "   [3 2 1]\n",
      "   [0 4 1]]\n",
      "\n",
      "  [[2 0 1]\n",
      "   [2 1 0]\n",
      "   [4 1 2]]\n",
      "\n",
      "  [[0 1 4]\n",
      "   [1 0 0]\n",
      "   [1 2 3]]]\n",
      "\n",
      "\n",
      " [[[3 1 1]\n",
      "   [4 2 2]\n",
      "   [3 4 3]]\n",
      "\n",
      "  [[1 1 3]\n",
      "   [2 2 3]\n",
      "   [4 3 4]]\n",
      "\n",
      "  [[1 3 2]\n",
      "   [2 3 1]\n",
      "   [3 4 0]]\n",
      "\n",
      "  [[3 2 3]\n",
      "   [3 1 0]\n",
      "   [4 0 3]]\n",
      "\n",
      "  [[2 3 2]\n",
      "   [1 0 4]\n",
      "   [0 3 1]]\n",
      "\n",
      "  [[3 2 1]\n",
      "   [0 4 1]\n",
      "   [3 1 2]]\n",
      "\n",
      "  [[2 1 0]\n",
      "   [4 1 2]\n",
      "   [1 2 4]]\n",
      "\n",
      "  [[1 0 0]\n",
      "   [1 2 3]\n",
      "   [2 4 0]]]\n",
      "\n",
      "\n",
      " [[[4 2 2]\n",
      "   [3 4 3]\n",
      "   [2 1 0]]\n",
      "\n",
      "  [[2 2 3]\n",
      "   [4 3 4]\n",
      "   [1 0 0]]\n",
      "\n",
      "  [[2 3 1]\n",
      "   [3 4 0]\n",
      "   [0 0 0]]\n",
      "\n",
      "  [[3 1 0]\n",
      "   [4 0 3]\n",
      "   [0 0 0]]\n",
      "\n",
      "  [[1 0 4]\n",
      "   [0 3 1]\n",
      "   [0 0 4]]\n",
      "\n",
      "  [[0 4 1]\n",
      "   [3 1 2]\n",
      "   [0 4 3]]\n",
      "\n",
      "  [[4 1 2]\n",
      "   [1 2 4]\n",
      "   [4 3 3]]\n",
      "\n",
      "  [[1 2 3]\n",
      "   [2 4 0]\n",
      "   [3 3 0]]]\n",
      "\n",
      "\n",
      " [[[3 4 3]\n",
      "   [2 1 0]\n",
      "   [2 3 1]]\n",
      "\n",
      "  [[4 3 4]\n",
      "   [1 0 0]\n",
      "   [3 1 1]]\n",
      "\n",
      "  [[3 4 0]\n",
      "   [0 0 0]\n",
      "   [1 1 3]]\n",
      "\n",
      "  [[4 0 3]\n",
      "   [0 0 0]\n",
      "   [1 3 1]]\n",
      "\n",
      "  [[0 3 1]\n",
      "   [0 0 4]\n",
      "   [3 1 2]]\n",
      "\n",
      "  [[3 1 2]\n",
      "   [0 4 3]\n",
      "   [1 2 1]]\n",
      "\n",
      "  [[1 2 4]\n",
      "   [4 3 3]\n",
      "   [2 1 1]]\n",
      "\n",
      "  [[2 4 0]\n",
      "   [3 3 0]\n",
      "   [1 1 0]]]\n",
      "\n",
      "\n",
      " [[[2 1 0]\n",
      "   [2 3 1]\n",
      "   [1 2 0]]\n",
      "\n",
      "  [[1 0 0]\n",
      "   [3 1 1]\n",
      "   [2 0 1]]\n",
      "\n",
      "  [[0 0 0]\n",
      "   [1 1 3]\n",
      "   [0 1 0]]\n",
      "\n",
      "  [[0 0 0]\n",
      "   [1 3 1]\n",
      "   [1 0 3]]\n",
      "\n",
      "  [[0 0 4]\n",
      "   [3 1 2]\n",
      "   [0 3 1]]\n",
      "\n",
      "  [[0 4 3]\n",
      "   [1 2 1]\n",
      "   [3 1 3]]\n",
      "\n",
      "  [[4 3 3]\n",
      "   [2 1 1]\n",
      "   [1 3 1]]\n",
      "\n",
      "  [[3 3 0]\n",
      "   [1 1 0]\n",
      "   [3 1 4]]]]\n"
     ]
    }
   ],
   "source": [
    "z = np.random.randint(0,5,(10,10))\n",
    "n = 3\n",
    "i = 1+(z.shape[0]-3) # 1+10-3\n",
    "j = 1+(z.shape[1]-3) # 1+10-3\n",
    "x= stride_tricks.as_strided(z, shape=(i, j, n, n), strides=z.strides + z.strides)\n",
    "print (x)"
   ]
  },
  {
   "cell_type": "code",
   "execution_count": 20,
   "metadata": {
    "collapsed": false
   },
   "outputs": [
    {
     "name": "stdout",
     "output_type": "stream",
     "text": [
      "[[ 1 13  6 16  1]\n",
      " [13  1 14  8  9]\n",
      " [ 6 14  3 42  1]\n",
      " [16  8  5  4  8]\n",
      " [ 1  9  1  8  4]]\n"
     ]
    }
   ],
   "source": [
    "class Symetric(np.ndarray):\n",
    "    def __setiem__(self,index,value):\n",
    "        i,j=index\n",
    "        super(Symetric,self).__setitem__((i,j),value)\n",
    "        super(Symetric,self).__setitem__((j,i),value)\n",
    "def symetric(z):\n",
    "    return np.asarray(z+z.T-np.diag(z.diagonal())).view(Symetric)\n",
    "s = symetric(np.random.randint(0,10,(5,5)))\n",
    "s[2,3] = 42\n",
    "print(s)"
   ]
  },
  {
   "cell_type": "code",
   "execution_count": 21,
   "metadata": {
    "collapsed": false
   },
   "outputs": [
    {
     "name": "stdout",
     "output_type": "stream",
     "text": [
      "[[200.]\n",
      " [200.]\n",
      " [200.]\n",
      " [200.]\n",
      " [200.]\n",
      " [200.]\n",
      " [200.]\n",
      " [200.]\n",
      " [200.]\n",
      " [200.]\n",
      " [200.]\n",
      " [200.]\n",
      " [200.]\n",
      " [200.]\n",
      " [200.]\n",
      " [200.]\n",
      " [200.]\n",
      " [200.]\n",
      " [200.]\n",
      " [200.]]\n"
     ]
    }
   ],
   "source": [
    "p, n = 10, 20\n",
    "z = np.ones((p,n,n))\n",
    "x = np.ones((p,n,1))\n",
    "s = np.tensordot(z, x, axes=[[0, 2], [0, 1]])\n",
    "print (s)"
   ]
  },
  {
   "cell_type": "code",
   "execution_count": 25,
   "metadata": {
    "collapsed": false
   },
   "outputs": [
    {
     "name": "stdout",
     "output_type": "stream",
     "text": [
      "[[16. 16. 16. 16.]\n",
      " [16. 16. 16. 16.]\n",
      " [16. 16. 16. 16.]\n",
      " [16. 16. 16. 16.]]\n"
     ]
    }
   ],
   "source": [
    "z = np.ones((16,16))\n",
    "k = 4\n",
    "x = np.add.reduceat(np.add.reduceat(z, np.arange(0, z.shape[0], k), axis=0),\n",
    "                                       np.arange(0, z.shape[1], k), axis=1)\n",
    "print (x)"
   ]
  },
  {
   "cell_type": "code",
   "execution_count": 26,
   "metadata": {
    "collapsed": false
   },
   "outputs": [
    {
     "name": "stdout",
     "output_type": "stream",
     "text": [
      "[[0 0 0 ... 0 0 0]\n",
      " [0 0 0 ... 0 0 0]\n",
      " [0 0 0 ... 0 0 0]\n",
      " ...\n",
      " [0 0 0 ... 0 0 0]\n",
      " [0 0 0 ... 0 0 0]\n",
      " [0 0 0 ... 0 0 0]]\n"
     ]
    }
   ],
   "source": [
    "def iterate(Z):\n",
    "\n",
    "    N = (Z[0:-2,0:-2] + Z[0:-2,1:-1] + Z[0:-2,2:] +\n",
    "         Z[1:-1,0:-2]                + Z[1:-1,2:] +\n",
    "         Z[2:  ,0:-2] + Z[2:  ,1:-1] + Z[2:  ,2:])\n",
    "\n",
    "\n",
    "    birth = (N==3) & (Z[1:-1,1:-1]==0)\n",
    "    survive = ((N==2) | (N==3)) & (Z[1:-1,1:-1]==1)\n",
    "    Z[...] = 0\n",
    "    Z[1:-1,1:-1][birth | survive] = 1\n",
    "    return Z\n",
    "\n",
    "Z = np.random.randint(0,2,(50,50))\n",
    "for i in range(100): Z = iterate(Z)\n",
    "print (Z)"
   ]
  },
  {
   "cell_type": "code",
   "execution_count": 27,
   "metadata": {
    "collapsed": false
   },
   "outputs": [
    {
     "name": "stdout",
     "output_type": "stream",
     "text": [
      "[9995 9996 9997 9998 9999]\n"
     ]
    }
   ],
   "source": [
    "z = np.arange(10000)\n",
    "np.random.shuffle(z)\n",
    "n = 5\n",
    "print(z[np.argsort(z)[-n:]])"
   ]
  },
  {
   "cell_type": "code",
   "execution_count": 28,
   "metadata": {
    "collapsed": false
   },
   "outputs": [
    {
     "name": "stdout",
     "output_type": "stream",
     "text": [
      "[[1 4 6]\n",
      " [1 4 7]\n",
      " [1 5 6]\n",
      " [1 5 7]\n",
      " [2 4 6]\n",
      " [2 4 7]\n",
      " [2 5 6]\n",
      " [2 5 7]\n",
      " [3 4 6]\n",
      " [3 4 7]\n",
      " [3 5 6]\n",
      " [3 5 7]]\n"
     ]
    }
   ],
   "source": [
    "def cartesian(arrays):\n",
    "    arrays = [np.asarray(a) for a in arrays]\n",
    "    shape = (len(x) for x in arrays)\n",
    "\n",
    "    ix = np.indices(shape, dtype=int)\n",
    "    ix = ix.reshape(len(arrays), -1).T\n",
    "\n",
    "    for n, arr in enumerate(arrays):\n",
    "        ix[:, n] = arrays[n][ix[:, n]]\n",
    "\n",
    "    return ix\n",
    "\n",
    "print (cartesian(([1, 2, 3], [4, 5], [6, 7])))"
   ]
  },
  {
   "cell_type": "code",
   "execution_count": 30,
   "metadata": {
    "collapsed": false
   },
   "outputs": [
    {
     "name": "stdout",
     "output_type": "stream",
     "text": [
      "[(b'Hello', 2.5, 3) (b'World', 3.6, 2)]\n"
     ]
    }
   ],
   "source": [
    "z = np.array([('Hello',2.5,3),\n",
    "             ('World',3.6,2)])\n",
    "x = np.core.records.fromarrays(z.T,names='cols1,col2,col3',formats='S8,f8,i8')\n",
    "print(x)"
   ]
  },
  {
   "cell_type": "code",
   "execution_count": 31,
   "metadata": {
    "collapsed": false
   },
   "outputs": [
    {
     "data": {
      "text/plain": [
       "0.0036522212630043316"
      ]
     },
     "execution_count": 31,
     "metadata": {},
     "output_type": "execute_result"
    }
   ],
   "source": [
    "z = np.random.rand()\n",
    "np.power(z,3)"
   ]
  },
  {
   "cell_type": "code",
   "execution_count": 32,
   "metadata": {
    "collapsed": false
   },
   "outputs": [
    {
     "name": "stdout",
     "output_type": "stream",
     "text": [
      "[0 3 4 6]\n"
     ]
    }
   ],
   "source": [
    "a = np.random.randint(0,5,(8,3))\n",
    "b = np.random.randint(0,5,(2,2))\n",
    "c = (a[...,np.newaxis,np.newaxis] == b)\n",
    "rows = np.where(c.any((3,1)).all(1))[0]\n",
    "print(rows)"
   ]
  },
  {
   "cell_type": "code",
   "execution_count": 33,
   "metadata": {
    "collapsed": false
   },
   "outputs": [
    {
     "name": "stdout",
     "output_type": "stream",
     "text": [
      "[[2 4 3]\n",
      " [0 2 0]\n",
      " [3 4 2]\n",
      " [2 3 2]\n",
      " [1 3 3]\n",
      " [1 2 4]\n",
      " [3 1 3]\n",
      " [4 2 3]\n",
      " [1 3 0]\n",
      " [4 1 0]]\n",
      "[[2 4 3]\n",
      " [0 2 0]\n",
      " [3 4 2]\n",
      " [2 3 2]\n",
      " [1 3 3]\n",
      " [1 2 4]\n",
      " [3 1 3]\n",
      " [4 2 3]\n",
      " [1 3 0]\n",
      " [4 1 0]]\n"
     ]
    }
   ],
   "source": [
    "z = np.random.randint(0,5,(10,3))\n",
    "print(z)\n",
    "x = np.all(z[:,1:] == z[:,:-1],axis=1)\n",
    "y = z[~x]\n",
    "print(y)"
   ]
  },
  {
   "cell_type": "code",
   "execution_count": 34,
   "metadata": {
    "collapsed": false
   },
   "outputs": [
    {
     "name": "stdout",
     "output_type": "stream",
     "text": [
      "[[0 0 0 0 0 0 0 0]\n",
      " [0 0 0 0 0 0 0 1]\n",
      " [0 0 0 0 0 0 1 0]\n",
      " [0 0 0 0 0 0 1 1]\n",
      " [0 0 0 0 1 1 1 1]\n",
      " [0 0 0 1 0 0 0 0]\n",
      " [0 0 1 0 0 0 0 0]\n",
      " [0 1 0 0 0 0 0 0]\n",
      " [1 0 0 0 0 0 0 0]]\n"
     ]
    }
   ],
   "source": [
    "I = np.array([0, 1, 2, 3, 15, 16, 32, 64, 128])\n",
    "B = ((I.reshape(-1,1) & (2**np.arange(8))) != 0).astype(int)\n",
    "print(B[:,::-1])"
   ]
  },
  {
   "cell_type": "code",
   "execution_count": 35,
   "metadata": {
    "collapsed": false
   },
   "outputs": [
    {
     "name": "stdout",
     "output_type": "stream",
     "text": [
      "[[0 0 0]\n",
      " [0 1 1]\n",
      " [1 0 1]\n",
      " [1 1 1]]\n"
     ]
    }
   ],
   "source": [
    "Z = np.random.randint(0,2,(6,3))\n",
    "T = np.ascontiguousarray(Z).view(np.dtype((np.void, Z.dtype.itemsize * Z.shape[1])))\n",
    "_, idx = np.unique(T, return_index=True)\n",
    "uZ = Z[idx]\n",
    "print (uZ)"
   ]
  },
  {
   "cell_type": "code",
   "execution_count": 36,
   "metadata": {
    "collapsed": false
   },
   "outputs": [
    {
     "name": "stdout",
     "output_type": "stream",
     "text": [
      "4.486925110356435\n"
     ]
    }
   ],
   "source": [
    "x = np.random.uniform(0,1,10)\n",
    "y = np.random.uniform(0,1,10)\n",
    "print(np.einsum('i->',x))"
   ]
  },
  {
   "cell_type": "code",
   "execution_count": 37,
   "metadata": {
    "collapsed": false
   },
   "outputs": [
    {
     "name": "stdout",
     "output_type": "stream",
     "text": [
      "[0.96008772 0.00543633 0.07281304 0.41550815 0.32379981 0.46979089\n",
      " 0.02541201 0.21399513 0.31127483 0.24972997]\n"
     ]
    }
   ],
   "source": [
    "print(np.einsum('i,i->i',x,y))"
   ]
  },
  {
   "cell_type": "code",
   "execution_count": 38,
   "metadata": {
    "collapsed": false
   },
   "outputs": [
    {
     "name": "stdout",
     "output_type": "stream",
     "text": [
      "3.047847888573379\n",
      "[[0.96008772 0.12387387 0.548192   0.47782376 0.83682628 0.91331857\n",
      "  0.09620029 0.4867139  0.42327821 0.90295434]\n",
      " [0.04213445 0.00543633 0.02405798 0.02096979 0.03672499 0.04008194\n",
      "  0.00422185 0.02135995 0.018576   0.03962709]\n",
      " [0.12752267 0.01645342 0.07281304 0.06346645 0.11115059 0.1213106\n",
      "  0.01277771 0.06464728 0.05622149 0.11993398]\n",
      " [0.83487742 0.1077188  0.47669928 0.41550815 0.72769118 0.79420769\n",
      "  0.08365429 0.42323888 0.36807618 0.78519512]\n",
      " [0.37149433 0.0479315  0.21211626 0.18488813 0.32379981 0.35339757\n",
      "  0.03722354 0.18832806 0.16378238 0.34938726]\n",
      " [0.49384791 0.06371798 0.28197785 0.24578199 0.43044495 0.46979089\n",
      "  0.0494833  0.25035488 0.21772496 0.46445976]\n",
      " [0.25361419 0.03272219 0.14480892 0.12622064 0.22105378 0.24125977\n",
      "  0.02541201 0.12856903 0.11181203 0.23852199]\n",
      " [0.42212498 0.05446404 0.24102541 0.21008637 0.36793021 0.40156183\n",
      "  0.0422967  0.21399513 0.18610414 0.39700495]\n",
      " [0.70603953 0.09109569 0.40313527 0.35138713 0.61539422 0.67164593\n",
      "  0.0707448  0.35792485 0.31127483 0.66402418]\n",
      " [0.26553134 0.03425978 0.15161339 0.13215166 0.23144094 0.2525964\n",
      "  0.0266061  0.1346104  0.117066   0.24972997]]\n"
     ]
    }
   ],
   "source": [
    "print(np.einsum('i,i',x,y))\n",
    "print(np.einsum('i,j->ij',x,y))"
   ]
  },
  {
   "cell_type": "code",
   "execution_count": 39,
   "metadata": {
    "collapsed": true
   },
   "outputs": [],
   "source": [
    "phi = np.arange(0, 10*np.pi, 0.1)\n",
    "a = 1\n",
    "x = a*phi*np.cos(phi)\n",
    "y = a*phi*np.sin(phi)\n",
    "\n",
    "dr = (np.diff(x)**2 + np.diff(y)**2)**.5 \n",
    "r = np.zeros_like(x)\n",
    "r[1:] = np.cumsum(dr)                \n",
    "r_int = np.linspace(0, r.max(), 200) \n",
    "x_int = np.interp(r_int, r, x)      \n",
    "y_int = np.interp(r_int, r, y)"
   ]
  },
  {
   "cell_type": "code",
   "execution_count": 40,
   "metadata": {
    "collapsed": false
   },
   "outputs": [
    {
     "name": "stdout",
     "output_type": "stream",
     "text": [
      "[[2. 0. 1. 1.]]\n"
     ]
    }
   ],
   "source": [
    "x = np.asarray([[1.0, 0.0, 3.0, 8.0],\n",
    "                [2.0, 0.0, 1.0, 1.0],\n",
    "                [1.5, 2.5, 1.0, 0.0]])\n",
    "n = 4 \n",
    "m = np.logical_and.reduce(np.mod(x,1)==0,axis=-1)\n",
    "m &= (x.sum(axis=-1)==n)\n",
    "print(x[m])"
   ]
  },
  {
   "cell_type": "code",
   "execution_count": 41,
   "metadata": {
    "collapsed": false
   },
   "outputs": [
    {
     "name": "stdout",
     "output_type": "stream",
     "text": [
      "[-0.26301235  0.08923362]\n"
     ]
    }
   ],
   "source": [
    "x = np.random.randn(100)\n",
    "n = 1000\n",
    "idx = np.random.randint(0,x.size,(n,x.size))\n",
    "means = x[idx].mean(axis=1)\n",
    "confint = np.percentile(means,[2.5,97.5])\n",
    "print(confint)"
   ]
  },
  {
   "cell_type": "code",
   "execution_count": null,
   "metadata": {
    "collapsed": true
   },
   "outputs": [],
   "source": []
  }
 ],
 "metadata": {
  "anaconda-cloud": {},
  "kernelspec": {
   "display_name": "Python [conda env:Anaconda3]",
   "language": "python",
   "name": "conda-env-Anaconda3-py"
  },
  "language_info": {
   "codemirror_mode": {
    "name": "ipython",
    "version": 3
   },
   "file_extension": ".py",
   "mimetype": "text/x-python",
   "name": "python",
   "nbconvert_exporter": "python",
   "pygments_lexer": "ipython3",
   "version": "3.5.2"
  }
 },
 "nbformat": 4,
 "nbformat_minor": 1
}
